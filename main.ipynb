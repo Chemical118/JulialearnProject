{
 "cells": [
  {
   "cell_type": "markdown",
   "metadata": {},
   "source": [
    "## JulialearnProject\n",
    "개꿀잼 Julia를 배워보자"
   ]
  },
  {
   "cell_type": "markdown",
   "metadata": {},
   "source": [
    "### 출력과 자료형"
   ]
  },
  {
   "cell_type": "code",
   "execution_count": 1,
   "metadata": {},
   "outputs": [
    {
     "name": "stdout",
     "output_type": "stream",
     "text": [
      "Hello, Sans!\n",
      "3\n",
      "2\n",
      "28\n",
      "1.5\n",
      "3\n",
      "1\n",
      "36\n"
     ]
    }
   ],
   "source": [
    "# 출력\n",
    "println(\"Hello, Sans!\")\n",
    "\n",
    "# 연산자\n",
    "println(1+2)\n",
    "println(3-1)\n",
    "println(4*7)\n",
    "println(3/2)\n",
    "println(13÷4) # \\div : ÷\n",
    "println(13%4)\n",
    "println(6^2)"
   ]
  },
  {
   "cell_type": "code",
   "execution_count": 2,
   "metadata": {},
   "outputs": [
    {
     "name": "stdout",
     "output_type": "stream",
     "text": [
      "Int64\n",
      "Float64\n",
      "Char\n",
      "String\n",
      "String\n"
     ]
    }
   ],
   "source": [
    "println(typeof(1_000_00))  # 나중에 확인\n",
    "println(typeof(1.0))\n",
    "println(typeof('a')) # like C\n",
    "println(typeof(\"a\"))\n",
    "println(typeof(\"ㅇㅅㅇ\"))\n"
   ]
  },
  {
   "cell_type": "markdown",
   "metadata": {},
   "source": [
    "### 변수와 표현식"
   ]
  },
  {
   "cell_type": "code",
   "execution_count": 3,
   "metadata": {},
   "outputs": [
    {
     "name": "stdout",
     "output_type": "stream",
     "text": [
      "1.2\n",
      "2\n"
     ]
    }
   ],
   "source": [
    "π_val = 1.2 # \\pi : π\n",
    "❤ = 2\n",
    "println(π_val)\n",
    "println(❤) # emoji lol"
   ]
  },
  {
   "cell_type": "code",
   "execution_count": 4,
   "metadata": {},
   "outputs": [
    {
     "name": "stdout",
     "output_type": "stream",
     "text": [
      "홍진호홍진호\n"
     ]
    },
    {
     "name": "stdout",
     "output_type": "stream",
     "text": [
      "홍진호홍진호\n"
     ]
    }
   ],
   "source": [
    "println(\"홍진호\"*\"홍진호\") # 문자열에서는 * 와 ^\n",
    "println(\"홍진호\"^2)"
   ]
  },
  {
   "cell_type": "markdown",
   "metadata": {},
   "source": [
    "### 함수"
   ]
  },
  {
   "cell_type": "code",
   "execution_count": 5,
   "metadata": {},
   "outputs": [
    {
     "name": "stdout",
     "output_type": "stream",
     "text": [
      "0\n",
      "0.0\n",
      "0.0\n",
      "Float64\n",
      "3\n",
      "3.0\n",
      "-5.0\n",
      "Float64"
     ]
    },
    {
     "name": "stdout",
     "output_type": "stream",
     "text": [
      "\n"
     ]
    }
   ],
   "source": [
    "println(parse(Int64, \"0\"))\n",
    "# pritln(int(32)) Not python lol\n",
    "\n",
    "println(parse(Float64, \"0\"))\n",
    "println(Float64(0))\n",
    "println(typeof(Float64(0))) # 실제 형태를 직접 함수로 사용 가능\n",
    "\n",
    "println(trunc(Int64, 3.999))\n",
    "println(trunc(3.99)) # 그냥 소수점을 없애기\n",
    "println(floor(-4.11)) # 가우스 함수\n",
    "println(typeof(trunc(3.9)))\n",
    "\n",
    "# 많은 함수들은 Int64, Float64으로 처리되는 듯\n",
    "# 왠만하면 그냥 둬도 될거 같다"
   ]
  },
  {
   "cell_type": "code",
   "execution_count": 6,
   "metadata": {},
   "outputs": [
    {
     "name": "stdout",
     "output_type": "stream",
     "text": [
      "Int64\n",
      "10084\n",
      "12\n",
      "\n",
      "Float32\n",
      "Float64\n",
      "Float64\n",
      "12.0"
     ]
    },
    {
     "name": "stdout",
     "output_type": "stream",
     "text": [
      "\n"
     ]
    }
   ],
   "source": [
    "# 보충\n",
    "println(typeof(Int(1.00))) # 64bit 프로그램을 사용해서 Int와 Int64가 동일 (Int64로 통일하자!)\n",
    "println(Int64('❤')) # Char에서는 아스키 코드 반환\n",
    "println(parse(Int64, \"12\"), \"\\n\") # String에서 int로 바꾸려면 parse\n",
    "\n",
    "println(typeof(float(2f-3))) # Float32은 f\n",
    "println(typeof(float(2e-3))) # Float64은 e\n",
    "println(typeof(Float64(2f-3))) # 형식 지정\n",
    "# flaot은 자료형이 아니라 부동소수점으로 바꿔주는 함수 => 앞에 대문자가 아니다\n",
    "println(parse(Float64, \"12\")) # String에서 float도 parse"
   ]
  },
  {
   "cell_type": "code",
   "execution_count": 7,
   "metadata": {},
   "outputs": [
    {
     "name": "stdout",
     "output_type": "stream",
     "text": [
      "-2.4492935982947064e-16\n",
      "0.0\n",
      "0.7071067811865476\n",
      "0.7071067811865476\n",
      "2.718281828459045"
     ]
    }
   ],
   "source": [
    "# Julia는 매우 수학적인 언어; 따라서, 삼각함수는 라디안 값을 받는다.\n",
    "println(sin(2*π)) # 부동소수점 오류\n",
    "println(sinpi(2)) # 대체제\n",
    "\n",
    "println(sinpi(0.25))\n",
    "println(sqrt(2)/2)\n",
    "\n",
    "print(exp(1))"
   ]
  },
  {
   "cell_type": "code",
   "execution_count": 8,
   "metadata": {},
   "outputs": [
    {
     "name": "stdout",
     "output_type": "stream",
     "text": [
      "와 샌즈다!!!\n",
      "와 샌즈다!!!\n"
     ]
    }
   ],
   "source": [
    "function sans()\n",
    "    println(\"와 샌즈다\",\"!\"^3)\n",
    "end\n",
    "\n",
    "function 홍진호()\n",
    "    sans()\n",
    "    sans()\n",
    "end\n",
    "\n",
    "홍진호()"
   ]
  },
  {
   "cell_type": "code",
   "execution_count": 9,
   "metadata": {},
   "outputs": [
    {
     "name": "stdout",
     "output_type": "stream",
     "text": [
      "와 샌즈다!!!\n",
      "nothing\n",
      "와 샌즈다!!!\n",
      "Nothing"
     ]
    },
    {
     "name": "stdout",
     "output_type": "stream",
     "text": [
      "\n"
     ]
    }
   ],
   "source": [
    "println(sans())\n",
    "println(typeof(sans())) # nothing은 문자열이 아니라 고유의 자료형인 'Nothing'을 가지고 있다."
   ]
  },
  {
   "cell_type": "code",
   "execution_count": 10,
   "metadata": {},
   "outputs": [
    {
     "name": "stdout",
     "output_type": "stream",
     "text": [
      "와 샌즈다 와 샌즈다 "
     ]
    }
   ],
   "source": [
    "print(\"와 샌즈다 \") # print는 println의 엔터가 없는 형태이다\n",
    "print(\"와 샌즈다 \")"
   ]
  },
  {
   "cell_type": "markdown",
   "metadata": {},
   "source": [
    "### 조건과 재귀"
   ]
  },
  {
   "cell_type": "code",
   "execution_count": 11,
   "metadata": {},
   "outputs": [
    {
     "name": "stdout",
     "output_type": "stream",
     "text": [
      "1.75\n",
      "1\n",
      "45\n"
     ]
    }
   ],
   "source": [
    "m = 105\n",
    "println(m / 60)\n",
    "println(m ÷ 60)\n",
    "println(m % 60)"
   ]
  },
  {
   "cell_type": "code",
   "execution_count": 12,
   "metadata": {},
   "outputs": [
    {
     "name": "stdout",
     "output_type": "stream",
     "text": [
      "even\n"
     ]
    }
   ],
   "source": [
    "x = 4\n",
    "if x % 2 == 1 # x % 2 (X) Bool(x%2) (O)\n",
    "    println(\"odd\")\n",
    "else\n",
    "    println(\"even\")\n",
    "end"
   ]
  },
  {
   "cell_type": "code",
   "execution_count": 13,
   "metadata": {},
   "outputs": [
    {
     "name": "stdout",
     "output_type": "stream",
     "text": [
      "ㅇㅅㅇ\n"
     ]
    }
   ],
   "source": [
    "x = 2\n",
    "if 0 ≤ x ≤ 5 # 0 <= x && x <= 5\n",
    "    println(\"ㅇㅅㅇ\")\n",
    "elseif x < 0\n",
    "    println(\"ㅇㅅㅇ;;\")\n",
    "elseif x ≠ -1 # x != -1\n",
    "    println(\"ㅇㅅㅇ...\")\n",
    "end"
   ]
  },
  {
   "cell_type": "code",
   "execution_count": 14,
   "metadata": {},
   "outputs": [],
   "source": [
    "# print(\"주어진 값은 : \"); t = parse(Int64, readline()) # python의 input과 동일\n",
    "# println(t)\n",
    "# Jupyter 버그로 에러남"
   ]
  },
  {
   "cell_type": "code",
   "execution_count": 15,
   "metadata": {},
   "outputs": [
    {
     "name": "stdout",
     "output_type": "stream",
     "text": [
      "aaaaaaaaaa"
     ]
    }
   ],
   "source": [
    "# 재귀함수\n",
    "function iterstring(s, n)\n",
    "    if n ≤ 0\n",
    "        return\n",
    "    end\n",
    "\n",
    "    print(s)\n",
    "    iterstring(s, n-1)\n",
    "end\n",
    "\n",
    "iterstring('a',10)"
   ]
  },
  {
   "cell_type": "code",
   "execution_count": 16,
   "metadata": {},
   "outputs": [
    {
     "name": "stdout",
     "output_type": "stream",
     "text": [
      "dx = 3\n",
      "dy = 4\n",
      "5.0\n",
      "3"
     ]
    },
    {
     "name": "stdout",
     "output_type": "stream",
     "text": [
      "\n"
     ]
    }
   ],
   "source": [
    "function distance(x₁, y₁, x₂, y₂)\n",
    "    dx = x₂ - x₁\n",
    "    dy = y₂ - y₁\n",
    "    @show dx dy # 쉽게 값을 확인시켜주는 메크로\n",
    "\n",
    "    sqrt(dx^2 + dy^2) # 함수의 반환값은 마지막으로 평가된 표현식의 값\n",
    "end\n",
    "\n",
    "function absf(x)\n",
    "    if x < 0\n",
    "        -x\n",
    "    else\n",
    "        x\n",
    "    end\n",
    "end\n",
    "\n",
    "println(distance(0, 0, 3, 4))\n",
    "println(absf(-3))"
   ]
  },
  {
   "cell_type": "code",
   "execution_count": 17,
   "metadata": {},
   "outputs": [
    {
     "name": "stdout",
     "output_type": "stream",
     "text": [
      "x is divisible by y"
     ]
    },
    {
     "name": "stdout",
     "output_type": "stream",
     "text": [
      "\n"
     ]
    }
   ],
   "source": [
    "function isvis(x, y)\n",
    "    if x % y == 0\n",
    "        return true\n",
    "    else\n",
    "        return false\n",
    "    end\n",
    "    # x % y == 0 로도 가능\n",
    "end\n",
    "\n",
    "x, y = 8, 4\n",
    "\n",
    "if isvis(x, y)\n",
    "    println(\"x is divisible by y\")\n",
    "end"
   ]
  },
  {
   "cell_type": "code",
   "execution_count": 18,
   "metadata": {},
   "outputs": [
    {
     "name": "stdout",
     "output_type": "stream",
     "text": [
      "-8764578968847253504\n",
      "265252859812191058636308480000000\n",
      "\n",
      "BigInt\n",
      "BigFloat\n"
     ]
    }
   ],
   "source": [
    "function fact(n)\n",
    "    if n == 0\n",
    "        1\n",
    "    else\n",
    "        n * fact(n-1)\n",
    "    end\n",
    "end\n",
    "\n",
    "println(fact(30))\n",
    "println(fact(big(30)), \"\\n\") # Int64 보다 큰 BigInt를 불러오기 위함\n",
    "# 마찬가지로 앞에 대문자가 아닌 이유는 BigInt or BigFloat를 불러오기 때문이다\n",
    "# big 함수는 하나의 class에서 오는 것이 아니라 두 class도 나뉘기 때문이다\n",
    "println(typeof(big(0))) # BigInt(0)\n",
    "println(typeof(big(0.0))) # BigFloat(0.0)"
   ]
  },
  {
   "cell_type": "code",
   "execution_count": 19,
   "metadata": {},
   "outputs": [
    {
     "name": "stdout",
     "output_type": "stream",
     "text": [
      "Wrong Input\n",
      "Wrong Input\n",
      "720"
     ]
    },
    {
     "name": "stdout",
     "output_type": "stream",
     "text": [
      "\n"
     ]
    }
   ],
   "source": [
    "function fact(n)\n",
    "    if !(n isa Int64) || n < 0\n",
    "        error(\"Wrong Input\") # 이렇게 하면 Error 나고 끝남 (try - catch로 조절)\n",
    "    elseif  n == 0\n",
    "        1\n",
    "    else\n",
    "        n * fact(n-1)\n",
    "    end\n",
    "end\n",
    "\n",
    "try\n",
    "    println(fact(1.5))\n",
    "catch\n",
    "    println(\"Wrong Input\")\n",
    "end\n",
    "\n",
    "try\n",
    "    println(fact(\"Sans\"))\n",
    "catch\n",
    "    println(\"Wrong Input\")\n",
    "end\n",
    "\n",
    "println(fact(6))"
   ]
  },
  {
   "cell_type": "markdown",
   "metadata": {},
   "source": [
    "### 반복"
   ]
  },
  {
   "cell_type": "code",
   "execution_count": 20,
   "metadata": {},
   "outputs": [
    {
     "name": "stdout",
     "output_type": "stream",
     "text": [
      "1 2 4 5 7 8 10"
     ]
    },
    {
     "name": "stdout",
     "output_type": "stream",
     "text": [
      " "
     ]
    }
   ],
   "source": [
    "for i in 1:10\n",
    "    if i % 3 == 0\n",
    "        continue\n",
    "    end\n",
    "    print(i, \" \")\n",
    "end"
   ]
  },
  {
   "cell_type": "code",
   "execution_count": 21,
   "metadata": {},
   "outputs": [
    {
     "name": "stdout",
     "output_type": "stream",
     "text": [
      "4\n",
      "2.5\n",
      "2.05\n",
      "2.000609756097561\n",
      "2.0000000929222947\n",
      "2.000000000000002\n",
      "2.0"
     ]
    },
    {
     "name": "stdout",
     "output_type": "stream",
     "text": [
      "\n"
     ]
    }
   ],
   "source": [
    "a = x = 4\n",
    "ϵ = 1e-13\n",
    "while true\n",
    "    println(x)\n",
    "    y = (x + a/x) / 2 # 뉴턴 근사\n",
    "    if abs(y - x) < ϵ\n",
    "        break\n",
    "    end\n",
    "    x = y\n",
    "end\n",
    "\n",
    "println(y)"
   ]
  },
  {
   "cell_type": "code",
   "execution_count": 22,
   "metadata": {},
   "outputs": [
    {
     "name": "stdout",
     "output_type": "stream",
     "text": [
      "3 ^ 2 / 2\n"
     ]
    },
    {
     "data": {
      "text/plain": [
       "4.5"
      ]
     },
     "metadata": {},
     "output_type": "display_data"
    }
   ],
   "source": [
    "expr = Meta.parse(\"3^2/2\") # 문자열을 표현식으로 변환 (println X)\n",
    "println(expr)\n",
    "eval(expr)"
   ]
  },
  {
   "cell_type": "markdown",
   "metadata": {},
   "source": [
    "### 문자열"
   ]
  },
  {
   "cell_type": "code",
   "execution_count": 23,
   "metadata": {},
   "outputs": [
    {
     "data": {
      "text/plain": [
       "'🍌': Unicode U+1F34C (category So: Symbol, other)"
      ]
     },
     "metadata": {},
     "output_type": "display_data"
    }
   ],
   "source": [
    "'🍌'"
   ]
  },
  {
   "cell_type": "code",
   "execution_count": 24,
   "metadata": {},
   "outputs": [
    {
     "name": "stdout",
     "output_type": "stream",
     "text": [
      "b\n"
     ]
    }
   ],
   "source": [
    "fruit = \"banna\"\n",
    "println(fruit[1]) # index at 1"
   ]
  },
  {
   "cell_type": "code",
   "execution_count": 25,
   "metadata": {},
   "outputs": [
    {
     "name": "stdout",
     "output_type": "stream",
     "text": [
      "5\n",
      "🍌🍑"
     ]
    },
    {
     "name": "stdout",
     "output_type": "stream",
     "text": [
      "\n"
     ]
    }
   ],
   "source": [
    "fruits = \"🍌!🍎 🍑\"\n",
    "len = length(fruits)\n",
    "println(len)\n",
    "fruits[len] # Julia의 문자열은 UTF-8로 가변 부호화여서 생기는 오류\n",
    "\n",
    "# firstindex, lastindex; 바이트 문자열에 접근하는 합리적인 방법\n",
    "println(fruits[firstindex(fruits)], fruits[lastindex(fruits)])"
   ]
  },
  {
   "cell_type": "code",
   "execution_count": 26,
   "metadata": {},
   "outputs": [
    {
     "name": "stdout",
     "output_type": "stream",
     "text": [
      "4\n",
      "!\n",
      "Wrong Index\n",
      "🍌, !, 🍎,  , 🍑, \n",
      "🍌, !, 🍎,  , 🍑, "
     ]
    }
   ],
   "source": [
    "println(sizeof(\"🍌\"))\n",
    "println(fruits[len])\n",
    "\n",
    "# 값은 5여서 마지막 것을 추가하는 것처럼 보이지만, 바이트 인덱스를 건드는 것이다.\n",
    "try\n",
    "    println(fruits[3]) # 🍌의 3번째 index를 건드려고 하니까 Error!\n",
    "catch\n",
    "    println(\"Wrong Index\")\n",
    "end\n",
    "\n",
    "\n",
    "index = firstindex(fruits)\n",
    "while index ≤ sizeof(fruits)\n",
    "    print(fruits[index], \", \")\n",
    "    index = nextind(fruits, index)\n",
    "end\n",
    "\n",
    "println()\n",
    "\n",
    "\n",
    "for i in fruits\n",
    "    print(i, \", \")\n",
    "end"
   ]
  },
  {
   "cell_type": "markdown",
   "metadata": {},
   "source": [
    "#### UTF-8"
   ]
  },
  {
   "cell_type": "code",
   "execution_count": 27,
   "metadata": {},
   "outputs": [
    {
     "name": "stdout",
     "output_type": "stream",
     "text": [
      "4\n",
      "2\n",
      "3\n",
      "4\n",
      "\n",
      "1\n",
      "1\n",
      "1\n"
     ]
    }
   ],
   "source": [
    "println(sizeof(\"👶\")) # 이모지는 4바이트\n",
    "println(sizeof(\"ض\")) # 내가 잘 안쓰는 외국 언어들은 2바이트\n",
    "println(sizeof(\"の\")) # 한국어, 일본어는 3바이트\n",
    "println(sizeof('👶'), \"\\n\") # Char vs String; Char은 항상 4바이트\n",
    "\n",
    "# 아스키 코드는 1바이트\n",
    "println(sizeof(\"!\"))\n",
    "println(sizeof(\"a\"))\n",
    "println(sizeof(\"0\"))"
   ]
  },
  {
   "cell_type": "code",
   "execution_count": 28,
   "metadata": {},
   "outputs": [
    {
     "name": "stdout",
     "output_type": "stream",
     "text": [
      "Sans!\n",
      "\n",
      "Wow\n",
      "Wow, Sans!\n",
      "!snaS ,woW"
     ]
    },
    {
     "name": "stdout",
     "output_type": "stream",
     "text": [
      "\n"
     ]
    }
   ],
   "source": [
    "str = \"Wow, Sans!\"\n",
    "println(str[6:end]) # 마지막을 표시하기 위한 예약어\n",
    "println(str[2:1]) # 1 ~ end 범위 안에 있을때 앞의 값이 크면 빈 문자열\n",
    "println(str[1:3]) # 무조건 숫자를 두번 써야함; Python 이랑 다름\n",
    "println(str[:]) # copy 하는 기능; Python과 유사\n",
    "println(str[end:-1:1]) # 거꾸로하는 방법; Python과 순서가 다름"
   ]
  },
  {
   "cell_type": "code",
   "execution_count": 29,
   "metadata": {},
   "outputs": [
    {
     "name": "stdout",
     "output_type": "stream",
     "text": [
      "Hello, World!!\n",
      "120\n"
     ]
    },
    {
     "name": "stdout",
     "output_type": "stream",
     "text": [
      "InexactError: trunc(Int8, 177)\n"
     ]
    }
   ],
   "source": [
    "greet = \"Hello\"\n",
    "whom = \"World\"\n",
    "\n",
    "# 문자열 보간\n",
    "println(\"$greet, $(whom*\"!\")!\") # ,은 변수 이름으로 사용되지 않으니 저렇게 사용\n",
    "# 저렇게 $뒤에 괄호를 사용하지 않는 것은 흔치 않음 그냥 표현이라 생각하고 사용하자\n",
    "# 안에서 계산도 할 수 있다\n",
    "\n",
    "println(Int('x')) # return Int64 (사실상 같은거지만 짧으니까 ㅎㅎ)\n",
    "# ± : UTF-8 : 177번 (2바이트 : 16비트)\n",
    "try\n",
    "    println(Int8('±')) \n",
    "catch\n",
    "    println(\"InexactError: trunc(Int8, 177)\")\n",
    "end\n",
    "\n",
    "# 형식이 지정된 경우에는 먼저 UInt32로 변환한 다음에 trunc를 이용해서 바꾸는 듯\n",
    "# Int8보다 큰 값이 들어가자 Error "
   ]
  },
  {
   "cell_type": "code",
   "execution_count": 30,
   "metadata": {},
   "outputs": [
    {
     "name": "stdout",
     "output_type": "stream",
     "text": [
      "true\n",
      "true\n",
      "true\n",
      "true\n",
      "true\n",
      "false\n"
     ]
    }
   ],
   "source": [
    "println('a' in \"sasa\")\n",
    "println('a' ∈ \"sasa\") # \\in\n",
    "\n",
    "println(!('z' in \"sasa\"))\n",
    "println('z' ∉ \"sasa\") # \\notin\n",
    "println(occursin(\"sa\", \"sasa\")) # substring\n",
    "println(occursin(\"sasa\", \"sa\"))"
   ]
  },
  {
   "cell_type": "code",
   "execution_count": 31,
   "metadata": {},
   "outputs": [
    {
     "name": "stdout",
     "output_type": "stream",
     "text": [
      "false\n",
      "false\n",
      "true"
     ]
    },
    {
     "name": "stdout",
     "output_type": "stream",
     "text": [
      "\n"
     ]
    }
   ],
   "source": [
    "println('a' < 'A') # 소문자가 아스키 코드는 더 큼\n",
    "println(80 == '0') # Char 끼리는 아스키로 하지만 C언어는 X\n",
    "println('0' < 'a') # 아스키 순서; 0-9, A-Z, a-z"
   ]
  },
  {
   "cell_type": "code",
   "execution_count": 32,
   "metadata": {},
   "outputs": [
    {
     "name": "stdout",
     "output_type": "stream",
     "text": [
      "true\n",
      "false\n"
     ]
    }
   ],
   "source": [
    "function isabc(word)\n",
    "    i = firstindex(word) # i = 1\n",
    "    j = nextind(word, i) \n",
    "    while j <= sizeof(word)\n",
    "        if word[j] < word[i]\n",
    "            return false # return 안쓰면 안됨! (함수 종료)\n",
    "        end\n",
    "        i = j\n",
    "        j = nextind(word, i)\n",
    "    end\n",
    "    true\n",
    "end\n",
    "\n",
    "println(isabc(\"asz\"))\n",
    "println(isabc(\"mza\"))"
   ]
  },
  {
   "cell_type": "code",
   "execution_count": 33,
   "metadata": {},
   "outputs": [
    {
     "name": "stdout",
     "output_type": "stream",
     "text": [
      "aa\n",
      "aah\n",
      "aahed\n",
      "aahing\n",
      "aahs"
     ]
    },
    {
     "name": "stdout",
     "output_type": "stream",
     "text": [
      "\n"
     ]
    }
   ],
   "source": [
    "# 특정 개수를 출력하는 경우에 유용\n",
    "fin = open(\"words.txt\")\n",
    "for _ in 1:5\n",
    "    println(readline(fin))\n",
    "end"
   ]
  },
  {
   "cell_type": "code",
   "execution_count": 34,
   "metadata": {},
   "outputs": [
    {
     "name": "stdout",
     "output_type": "stream",
     "text": [
      "aa\n",
      "aah\n",
      "aahed\n",
      "aahing\n",
      "aahs\n"
     ]
    }
   ],
   "source": [
    "# 전체를 출력하는 경우에 유용\n",
    "cnt = 0\n",
    "for line in eachline(\"words.txt\")\n",
    "    if cnt == 5\n",
    "        break\n",
    "    end\n",
    "    println(line)\n",
    "    cnt += 1\n",
    "end"
   ]
  },
  {
   "cell_type": "markdown",
   "metadata": {},
   "source": [
    "### 배열"
   ]
  },
  {
   "cell_type": "code",
   "execution_count": 35,
   "metadata": {},
   "outputs": [
    {
     "name": "stdout",
     "output_type": "stream",
     "text": [
      "Vector{Int64}\n",
      "Vector{String}\n",
      "Vector{Any}\n",
      "Vector{Any}\n"
     ]
    }
   ],
   "source": [
    "a = [10, 20, 30, 40]\n",
    "b = [\"Wow\", \"Sans\", \"!!\"]\n",
    "c = [2022, \"Sans\"]\n",
    "d = []\n",
    "\n",
    "# 하나의 Type이 들어가있는 이유\n",
    "println(typeof(a))\n",
    "println(typeof(b))\n",
    "println(typeof(c)) # 다른 Type이 존재하면 Any\n",
    "println(typeof(d)) # 비어있는 배열에는 아무거나 가능하므로 Any"
   ]
  },
  {
   "cell_type": "code",
   "execution_count": 36,
   "metadata": {},
   "outputs": [
    {
     "name": "stdout",
     "output_type": "stream",
     "text": [
      "30\n",
      "[10, 20, 30, 0]"
     ]
    },
    {
     "name": "stdout",
     "output_type": "stream",
     "text": [
      "\n"
     ]
    }
   ],
   "source": [
    "println(a[end - 1]) \n",
    "# end는 배열의 가장 마지막의 index를 정의한다\n",
    "# 따라서 이와 같이 연산식을 붙이는 것이 가능하다\n",
    "a[end] = 0\n",
    "println(a)"
   ]
  },
  {
   "cell_type": "code",
   "execution_count": 37,
   "metadata": {},
   "outputs": [
    {
     "name": "stdout",
     "output_type": "stream",
     "text": [
      "[1, 4, 9, 16]\n",
      "4"
     ]
    },
    {
     "name": "stdout",
     "output_type": "stream",
     "text": [
      "\n"
     ]
    }
   ],
   "source": [
    "for i in eachindex(a)\n",
    "    a[i] = i^2\n",
    "end\n",
    "println(a)\n",
    "println(length(a))"
   ]
  },
  {
   "cell_type": "code",
   "execution_count": 38,
   "metadata": {},
   "outputs": [],
   "source": [
    "for i in [] # 빈 배열은 한번도 실행되지 않는다\n",
    "    println(\"ㅇㅅㅇ?\")\n",
    "end"
   ]
  },
  {
   "cell_type": "code",
   "execution_count": 39,
   "metadata": {},
   "outputs": [
    {
     "name": "stdout",
     "output_type": "stream",
     "text": [
      "[9, 16]\n",
      "Int64[]\n",
      "[16, 9, 4, 1]\n",
      "[1, 4, 9, 16]"
     ]
    },
    {
     "name": "stdout",
     "output_type": "stream",
     "text": [
      "\n"
     ]
    }
   ],
   "source": [
    "# String과 같이 slicing 가능\n",
    "println(a[3:end])\n",
    "println(a[2:1]) # 1 ~ end 범위 내에서는 Error 나지 않고 빈 배열 반환\n",
    "println(a[end:-1:1])\n",
    "println(a[:]) # 배열 복사"
   ]
  },
  {
   "cell_type": "code",
   "execution_count": 40,
   "metadata": {},
   "outputs": [
    {
     "name": "stdout",
     "output_type": "stream",
     "text": [
      "[-1, -4, 9, 16]\n"
     ]
    }
   ],
   "source": [
    "a[1:2] = [-1, -4] # 한번에 갱신하기 위해서 slicing을 사용 가능\n",
    "println(a)"
   ]
  },
  {
   "cell_type": "code",
   "execution_count": 41,
   "metadata": {},
   "outputs": [
    {
     "name": "stdout",
     "output_type": "stream",
     "text": [
      "[1, 4, 9, 16, 25]\n",
      "[1, 4, 9, 16, 25, 36, 49, 64]\n",
      "['a', 'b', 'c']\n",
      "204"
     ]
    },
    {
     "name": "stdout",
     "output_type": "stream",
     "text": [
      "\n"
     ]
    }
   ],
   "source": [
    "a = [1, 2, 3, 4] .^2\n",
    "b = [6, 7, 8] .^2\n",
    "push!(a, 25)\n",
    "println(a)\n",
    "\n",
    "append!(a, b)\n",
    "\n",
    "println(a) # a 뒤에 b를 붙\n",
    "println(sort!(['c', 'b', 'a']))\n",
    "println(sum(a))"
   ]
  },
  {
   "cell_type": "markdown",
   "metadata": {},
   "source": [
    "### Vector, Matrix, Array\n",
    "[Julia Document; Multi-dimensional Arrays](https://docs.julialang.org/en/v1/manual/arrays/#man-multi-dim-arrays)\n",
    "\n",
    "`; or '\\n'` : vertical (1d)  \n",
    "`;; or ' '` : horizontal (2d)  \n",
    "`;^x` : Xd  \n",
    "`,` : only list value\n",
    "\n",
    "#### Difference of three\n",
    "`vector` : N array  \n",
    "`matrix` : NxM array  \n",
    "`array` : NxMxO.. array"
   ]
  },
  {
   "cell_type": "code",
   "execution_count": 42,
   "metadata": {},
   "outputs": [
    {
     "data": {
      "text/plain": [
       "@debugarr (macro with 1 method)"
      ]
     },
     "metadata": {},
     "output_type": "display_data"
    }
   ],
   "source": [
    "macro debugarr(a)\n",
    "    return esc(:($println(typeof(a), ' ', size(a), '\\n')))\n",
    "end\n",
    "\n",
    "# arr의 type과 size를 출력하는 macro 생성"
   ]
  },
  {
   "cell_type": "code",
   "execution_count": 43,
   "metadata": {},
   "outputs": [
    {
     "name": "stdout",
     "output_type": "stream",
     "text": [
      "Vector{UnitRange{Int64}}\n",
      "\n",
      "Vector{Int64}\n",
      "(9,)\n",
      "\n",
      "Matrix{Int64}\n",
      "(1, 1)"
     ]
    },
    {
     "name": "stdout",
     "output_type": "stream",
     "text": [
      "\n"
     ]
    }
   ],
   "source": [
    "a = [1:9] # only list value\n",
    "println(typeof(a), '\\n')\n",
    "\n",
    "a = [1:9;] # vertical => vector\n",
    "println(typeof(a))\n",
    "println(size(a), '\\n')\n",
    "\n",
    "a = [1;;] # horizontal => matrix (1,1)\n",
    "println(typeof(a))\n",
    "println(size(a))"
   ]
  },
  {
   "cell_type": "code",
   "execution_count": 44,
   "metadata": {},
   "outputs": [
    {
     "name": "stdout",
     "output_type": "stream",
     "text": [
      "Vector{Int64} (6,)\n",
      "\n",
      "Matrix{Int64} (6, 1)\n",
      "\n",
      "Vector{Int64} (6,)\n",
      "\n",
      "Matrix{Int64} (2, 3)\n"
     ]
    },
    {
     "name": "stdout",
     "output_type": "stream",
     "text": [
      "\n"
     ]
    }
   ],
   "source": [
    "a = [1, 2, 3, 4, 5, 6] # 값들을 나열만 하니까 vector\n",
    "@debugarr a\n",
    "\n",
    "a = [1:6;;] # 6x1 matrix가 만들어짐\n",
    "@debugarr a\n",
    "# 1x6가 아닌 이유?\n",
    "# [1:6;;] => [1; 2; 3; 4; 5; 6;;] 이기 때문이다\n",
    "# 원래는 1d 이지만, 추가적으로 차원을 제공했다고 생각할 수 있다 (다음 셀 참고)\n",
    "\n",
    "a = reshape(a, 6) # matrix to vector\n",
    "@debugarr a\n",
    "\n",
    "a = reshape(a, 2, 3)\n",
    "@debugarr a"
   ]
  },
  {
   "cell_type": "code",
   "execution_count": 45,
   "metadata": {},
   "outputs": [
    {
     "name": "stdout",
     "output_type": "stream",
     "text": [
      "Matrix{Int64} (1, 4)\n",
      "\n",
      "Matrix{Int64} (2, 2)\n",
      "\n",
      "Array{Int64, 3} (2, 2, 1)\n",
      "\n"
     ]
    }
   ],
   "source": [
    "# ;, ' ', '\\n'을 이용한 다양한 alias 표현\n",
    "a = [1 2 3 4]\n",
    "@debugarr a\n",
    "\n",
    "a = [1 2 # 이러한 표현이 가능한 이유는 tab에 민감하지 않은 Julia의 특성\n",
    "     3 4]\n",
    "@debugarr a\n",
    "\n",
    "a = [1; 3;; 2; 4] # ;의 우선순위는 차원이 작은 순이다\n",
    "# 마지막의 ;은 생략가능하다\n",
    "\n",
    "a = [1; 3;; 3; 4;;;]\n",
    "# 하지만, ;을 생략하지 않고, 앞의 차원보다 큰 경우에는 차원이 추가된다.\n",
    "# 이것을 예외 조항처럼 생각하지 말고 뒤에 크기는 같지만 아무것도 없는 행렬이 더해져서 차원이 추가된다고 생각하면 편하다.\n",
    "@debugarr a\n",
    "\n",
    "# 참고로 Array{T, 2}는 Matrix{T}와 Array{T, 1}는 Vector{T}와 같다."
   ]
  },
  {
   "cell_type": "code",
   "execution_count": 46,
   "metadata": {},
   "outputs": [
    {
     "data": {
      "text/plain": [
       "3×3 Matrix{Int64}:\n",
       " 0  0  1\n",
       " 0  0  2\n",
       " 3  4  5"
      ]
     },
     "metadata": {},
     "output_type": "display_data"
    }
   ],
   "source": [
    "# 이것의 연산 과정을 생각해보자\n",
    "a = [zeros(Int, 2, 2) [1:2;;]\n",
    "    [3 4]                  5]\n",
    "\n",
    "a = [zeros(Int, 2, 2) [1\n",
    "                       2]\n",
    "     [3 4]             5]\n",
    "\n",
    "a = [zeros(Int, 2, 2) [1\n",
    "                       2]\n",
    "     3 4               5]\n",
    "\n",
    "a = [[0 0 1\n",
    "      0 0 2]\n",
    "      [3 4 5]]\n",
    "      \n",
    "a = [0 0 1; 0 0 2; 3 4 5]"
   ]
  },
  {
   "cell_type": "code",
   "execution_count": 47,
   "metadata": {},
   "outputs": [
    {
     "data": {
      "text/plain": [
       "3×3 Matrix{Int64}:\n",
       " 1  2  3\n",
       " 4  5  6\n",
       " 7  8  9"
      ]
     },
     "metadata": {},
     "output_type": "display_data"
    }
   ],
   "source": [
    "# ' '와 '\\n'은 더 높은 우선 순위를 가진다\n",
    "a = [1 2 3; 4 5 6; 7 8 9;] \n",
    "# 생각해보면 우선순위가 뭔가 이상하다\n",
    "a = [[1;; 2;; 3]; [4;; 5;; 6]; [7;; 8;; 9]]\n",
    "# 원래는 수직으로 붙이는 것이 높은 우선순위를 가지고 있어서, 이렇게 괄호를 설정해야 하지만 원하는 결과를 얻을 수 있다.\n",
    "# 따라서, 무조건적으로 먼저 실행되는 ' '와 '\\n'들은 표현을 용이하게 한다."
   ]
  },
  {
   "cell_type": "code",
   "execution_count": 48,
   "metadata": {},
   "outputs": [
    {
     "name": "stdout",
     "output_type": "stream",
     "text": [
      "syntax: cannot mix space and \";;\" separators in an array expression, except to wrap a line\n"
     ]
    },
    {
     "data": {
      "text/plain": [
       "3×3 Matrix{Int64}:\n",
       " 1  2  3\n",
       " 4  5  6\n",
       " 7  8  9"
      ]
     },
     "metadata": {},
     "output_type": "display_data"
    }
   ],
   "source": [
    "# ' '와 ;;은 동시에 한 공간 안에서 사용될 수 없다\n",
    "# 이유는 모르겠지만 하지말라는 건 하지말자\n",
    "\n",
    "# a = [[1;; 2 3]; [4;; 5;; 6]; [7;; 8;; 9]]\n",
    "println(\"\"\"syntax: cannot mix space and \";;\" separators in an array expression, except to wrap a line\"\"\")\n",
    "\n",
    "a = [[1;; 2;; 3;;]; [4 5 6]; [7;; 8;; 9]] # 한 공간이 아니면 상관이 없다"
   ]
  },
  {
   "cell_type": "code",
   "execution_count": 49,
   "metadata": {},
   "outputs": [
    {
     "name": "stdout",
     "output_type": "stream",
     "text": [
      "4.5620622466088651125737385427783010527491569519042968750.25645557447642020054701106346328742802143096923828125"
     ]
    },
    {
     "name": "stdout",
     "output_type": "stream",
     "text": [
      "0.6664348008560969649494154509739018976688385009765625\n"
     ]
    }
   ],
   "source": [
    "# Comprehensions\n",
    "x = rand(8)\n",
    "y = rand(16)\n",
    "x = BigFloat[0.1*x[i] + 0.4*y[i] + 0.5*y[i+1] for i=1:length(x), j=1:2:length(y)]\n",
    "\n",
    "println(sum(x[:,1]), x[1,1], x[64])"
   ]
  },
  {
   "cell_type": "code",
   "execution_count": 50,
   "metadata": {},
   "outputs": [
    {
     "name": "stdout",
     "output_type": "stream",
     "text": [
      "1.6449339668472596\n",
      "[(0.5, 1) (0.3333333333333333, 3); (0.3333333333333333, 2) (0.25, 4)]\n",
      "[((1, 1), 1) ((1, 2), 3); ((2, 1), 2) ((2, 2), 4)]"
     ]
    },
    {
     "name": "stdout",
     "output_type": "stream",
     "text": [
      "\n"
     ]
    }
   ],
   "source": [
    "# Generator Expressions\n",
    "println(sum(1/n^2 for n=1:10000000))\n",
    "\n",
    "a = map(tuple, (1/(i+j) for i=1:2, j=1:2), [1 3; 2 4])\n",
    "println(a)\n",
    "\n",
    "a = map(tuple, ((i, j) for i=1:2, j=1:2), [1:2;; 3:4])\n",
    "println(a)"
   ]
  },
  {
   "cell_type": "code",
   "execution_count": 51,
   "metadata": {},
   "outputs": [
    {
     "name": "stdout",
     "output_type": "stream",
     "text": [
      "[(2, 2), (3, 1)]\n"
     ]
    }
   ],
   "source": [
    "a = [(i,j) for i=1:3 for j=1:i if i+j == 4]\n",
    "println(a)"
   ]
  },
  {
   "cell_type": "code",
   "execution_count": 52,
   "metadata": {},
   "outputs": [
    {
     "data": {
      "text/plain": [
       "2×2×2×2 Array{Int64, 4}:\n",
       "[:, :, 1, 1] =\n",
       " 1  3\n",
       " 2  4\n",
       "\n",
       "[:, :, 2, 1] =\n",
       " 5  7\n",
       " 6  8\n",
       "\n",
       "[:, :, 1, 2] =\n",
       "  9  11\n",
       " 10  12\n",
       "\n",
       "[:, :, 2, 2] =\n",
       " 13  15\n",
       " 14  16"
      ]
     },
     "metadata": {},
     "output_type": "display_data"
    }
   ],
   "source": [
    "a = reshape([1:16;], (2, 2, 2, 2))\n",
    "# [:, :, a, b]에 대해 이해해보자"
   ]
  },
  {
   "cell_type": "code",
   "execution_count": 53,
   "metadata": {},
   "outputs": [
    {
     "data": {
      "text/plain": [
       "2×3 Matrix{Float64}:\n",
       " 1.15854  1.25702  1.64024\n",
       " 1.71888  1.23742  1.35587"
      ]
     },
     "metadata": {},
     "output_type": "display_data"
    }
   ],
   "source": [
    "a = rand(2,1); A = rand(2,3);\n",
    "\n",
    "repeat(a,1,3) + A"
   ]
  },
  {
   "cell_type": "code",
   "execution_count": 54,
   "metadata": {},
   "outputs": [
    {
     "name": "stdout",
     "output_type": "stream",
     "text": [
      "[1.1585387453037983 1.2570213671421542 1.6402388634537683; 1.7188779535325553 1.2374151435611362 1.3558720872847345]\n",
      "[0.0 0.0 0.0; 0.0 0.0 0.0]\n"
     ]
    }
   ],
   "source": [
    "t = broadcast(+, a, A) # A에 a를 더해준다\n",
    "println(t)\n",
    "b = zeros(1,3)\n",
    "t = broadcast(*, a, b) # 이것은 b가 a를 포함하지도 작동해서 2x3 행렬을 반환한다\n",
    "println(t)"
   ]
  },
  {
   "cell_type": "code",
   "execution_count": 55,
   "metadata": {},
   "outputs": [
    {
     "name": "stdout",
     "output_type": "stream",
     "text": [
      "b\n",
      "d\n",
      "['c']\n"
     ]
    }
   ],
   "source": [
    "_a = Int('a')\n",
    "a = [Char(_a + i) for i in 0:3] # ['a', 'b', 'c', 'd']\n",
    "\n",
    "println(splice!(a, 2))\n",
    "println(pop!(a)) # push! : 마지막 , pushfirst! : 처음\n",
    "println(deleteat!(a, 1)) # splice!와 다르게 자체를 출력"
   ]
  },
  {
   "cell_type": "code",
   "execution_count": 56,
   "metadata": {},
   "outputs": [
    {
     "name": "stdout",
     "output_type": "stream",
     "text": [
      "['a', 'x', 'b', 'c', 'd']\n"
     ]
    }
   ],
   "source": [
    "a = [Char(_a + i) for i in 0:3] # ['a', 'b', 'c', 'd']\n",
    "println(insert!(a, 2, 'x'))"
   ]
  },
  {
   "cell_type": "code",
   "execution_count": 57,
   "metadata": {},
   "outputs": [
    {
     "name": "stdout",
     "output_type": "stream",
     "text": [
      "JJuulliiaa\n",
      "I  like  to  explain  biology  as  chemistry  and  computer  science  "
     ]
    }
   ],
   "source": [
    "a = [1:10;]\n",
    "a = collect(1:10) # 하나씩 분류해주는 것\n",
    "\n",
    "for i in collect(\"Julia\")\n",
    "    print(i^2)\n",
    "end\n",
    "println()\n",
    "\n",
    "for i in split(\"I like to explain biology as chemistry and computer science\")\n",
    "    print(i, \"  \")\n",
    "end"
   ]
  },
  {
   "cell_type": "code",
   "execution_count": 58,
   "metadata": {},
   "outputs": [
    {
     "name": "stdout",
     "output_type": "stream",
     "text": [
      "true\n",
      "false\n",
      "true"
     ]
    },
    {
     "name": "stdout",
     "output_type": "stream",
     "text": [
      "\n",
      "false\n"
     ]
    }
   ],
   "source": [
    "a = \"Julia\"\n",
    "b = \"Julia\"\n",
    "println(a ≡ b)\n",
    "\n",
    "a = [1:3;]\n",
    "b = [1:3;]\n",
    "println(a ≡ b)\n",
    "\n",
    "b = sort!(a) # b는 a의 별칭\n",
    "println(a ≡ b)\n",
    "\n",
    "b = sort(a)\n",
    "println(a ≡ b)"
   ]
  },
  {
   "cell_type": "markdown",
   "metadata": {},
   "source": [
    "### 딕셔너리"
   ]
  },
  {
   "cell_type": "code",
   "execution_count": 59,
   "metadata": {},
   "outputs": [
    {
     "data": {
      "text/plain": [
       "Dict{Any, Any} with 1 entry:\n",
       "  \"one\" => \"하나\""
      ]
     },
     "metadata": {},
     "output_type": "display_data"
    }
   ],
   "source": [
    "eng2kor = Dict()\n",
    "eng2kor[\"one\"] = \"하나\"\n",
    "eng2kor"
   ]
  },
  {
   "cell_type": "code",
   "execution_count": 60,
   "metadata": {},
   "outputs": [
    {
     "data": {
      "text/plain": [
       "Dict{String, String} with 3 entries:\n",
       "  \"two\"   => \"둘\"\n",
       "  \"one\"   => \"하나\"\n",
       "  \"three\" => \"셋\""
      ]
     },
     "metadata": {},
     "output_type": "display_data"
    }
   ],
   "source": [
    "eng2kor = Dict(\"one\" => \"하나\", \"two\" => \"둘\", \"three\" => \"셋\")\n",
    "eng2kor"
   ]
  },
  {
   "cell_type": "code",
   "execution_count": 61,
   "metadata": {},
   "outputs": [
    {
     "name": "stdout",
     "output_type": "stream",
     "text": [
      "둘\n",
      "KeyError: key \"four\" not found\n",
      "3"
     ]
    },
    {
     "name": "stdout",
     "output_type": "stream",
     "text": [
      "\n"
     ]
    }
   ],
   "source": [
    "println(eng2kor[\"two\"])\n",
    "\n",
    "try\n",
    "    println(eng2kor[\"four\"])\n",
    "catch\n",
    "    println(\"\"\"KeyError: key \"four\" not found\"\"\")\n",
    "end\n",
    "\n",
    "println(length(eng2kor))"
   ]
  },
  {
   "cell_type": "code",
   "execution_count": 62,
   "metadata": {},
   "outputs": [
    {
     "name": "stdout",
     "output_type": "stream",
     "text": [
      "true\n",
      "true\n",
      "true"
     ]
    }
   ],
   "source": [
    "ks = keys(eng2kor)\n",
    "vs = values(eng2kor)\n",
    "\n",
    "println(\"one\" ∈ ks)\n",
    "println(\"two\" ∈ ks)\n",
    "\n",
    "println(\"넷\" ∉ vs)"
   ]
  },
  {
   "cell_type": "code",
   "execution_count": 63,
   "metadata": {},
   "outputs": [
    {
     "name": "stdout",
     "output_type": "stream",
     "text": [
      "\n",
      "몰?루\n"
     ]
    }
   ],
   "source": [
    "println(get(eng2kor, \"four\", \"몰?루\")) # 모른 경우 기본 값을 설정해줄 수 있다\n",
    "# 역조회 할 바에 dict를 두개 만들자\n",
    "# dict는 해쉬 테이블이여서 O(1)이라고 하니 걍 두개 쓰자"
   ]
  },
  {
   "cell_type": "code",
   "execution_count": 64,
   "metadata": {},
   "outputs": [
    {
     "name": "stderr",
     "output_type": "stream",
     "text": [
      "\u001b[32m\u001b[1m    Updating\u001b[22m\u001b[39m registry at `C:\\Users\\Ryu\\.julia\\registries\\General.toml`\n",
      "\u001b[32m\u001b[1m   Resolving\u001b[22m\u001b[39m package versions...\n",
      "\u001b[32m\u001b[1m  No Changes\u001b[22m\u001b[39m to `C:\\Users\\Ryu\\.julia\\environments\\v1.7\\Project.toml`\n",
      "\u001b[32m\u001b[1m  No Changes\u001b[22m\u001b[39m to `C:\\Users\\Ryu\\.julia\\environments\\v1.7\\Manifest.toml`\n"
     ]
    }
   ],
   "source": [
    "import Pkg; Pkg.add(\"BenchmarkTools\")"
   ]
  },
  {
   "cell_type": "code",
   "execution_count": 65,
   "metadata": {},
   "outputs": [
    {
     "data": {
      "text/plain": [
       "BenchmarkTools.Trial: 10000 samples with 709 evaluations.\n",
       " Range \u001b[90m(\u001b[39m\u001b[36m\u001b[1mmin\u001b[22m\u001b[39m … \u001b[35mmax\u001b[39m\u001b[90m):  \u001b[39m\u001b[36m\u001b[1m175.882 ns\u001b[22m\u001b[39m … \u001b[35m149.751 μs\u001b[39m  \u001b[90m┊\u001b[39m GC \u001b[90m(\u001b[39mmin … max\u001b[90m): \u001b[39m 0.00% … 80.78%\n",
       " Time  \u001b[90m(\u001b[39m\u001b[34m\u001b[1mmedian\u001b[22m\u001b[39m\u001b[90m):     \u001b[39m\u001b[34m\u001b[1m199.577 ns               \u001b[22m\u001b[39m\u001b[90m┊\u001b[39m GC \u001b[90m(\u001b[39mmedian\u001b[90m):    \u001b[39m 0.00%\n",
       " Time  \u001b[90m(\u001b[39m\u001b[32m\u001b[1mmean\u001b[22m\u001b[39m ± \u001b[32mσ\u001b[39m\u001b[90m):   \u001b[39m\u001b[32m\u001b[1m528.773 ns\u001b[22m\u001b[39m ± \u001b[32m  6.787 μs\u001b[39m  \u001b[90m┊\u001b[39m GC \u001b[90m(\u001b[39mmean ± σ\u001b[90m):  \u001b[39m49.03% ±  3.81%\n",
       "\n",
       "  \u001b[39m \u001b[39m \u001b[39m \u001b[39m \u001b[39m \u001b[39m \u001b[39m \u001b[39m \u001b[39m \u001b[39m▇\u001b[34m█\u001b[39m\u001b[39m▄\u001b[39m \u001b[39m \u001b[39m \u001b[39m \u001b[39m \u001b[39m \u001b[39m \u001b[39m \u001b[39m \u001b[39m \u001b[39m \u001b[39m \u001b[39m \u001b[39m \u001b[39m \u001b[39m \u001b[39m \u001b[39m \u001b[39m \u001b[39m \u001b[39m \u001b[39m \u001b[39m \u001b[39m \u001b[39m \u001b[39m \u001b[39m \u001b[39m \u001b[39m \u001b[39m \u001b[39m \u001b[39m \u001b[39m \u001b[39m \u001b[39m \u001b[39m \u001b[39m \u001b[39m \u001b[39m \u001b[39m \u001b[39m \u001b[39m \u001b[39m \u001b[39m \u001b[39m \u001b[39m \u001b[39m \u001b[39m \u001b[39m \u001b[39m \u001b[39m \n",
       "  \u001b[39m▂\u001b[39m▄\u001b[39m▄\u001b[39m▇\u001b[39m█\u001b[39m▆\u001b[39m▄\u001b[39m▃\u001b[39m▇\u001b[39m█\u001b[34m█\u001b[39m\u001b[39m█\u001b[39m█\u001b[39m▅\u001b[39m▄\u001b[39m▃\u001b[39m▃\u001b[39m▃\u001b[39m▃\u001b[39m▃\u001b[39m▂\u001b[39m▃\u001b[39m▃\u001b[39m▃\u001b[39m▃\u001b[39m▃\u001b[39m▃\u001b[39m▃\u001b[39m▂\u001b[39m▂\u001b[39m▂\u001b[39m▂\u001b[39m▂\u001b[39m▂\u001b[39m▂\u001b[39m▂\u001b[39m▂\u001b[39m▂\u001b[39m▂\u001b[39m▂\u001b[39m▂\u001b[39m▂\u001b[39m▂\u001b[39m▂\u001b[39m▂\u001b[39m▂\u001b[39m▂\u001b[39m▂\u001b[39m▂\u001b[39m▁\u001b[39m▂\u001b[39m▂\u001b[39m▂\u001b[39m▂\u001b[39m▁\u001b[39m▂\u001b[39m▂\u001b[39m▁\u001b[39m▂\u001b[39m▂\u001b[39m▂\u001b[39m \u001b[39m▃\n",
       "  176 ns\u001b[90m           Histogram: frequency by time\u001b[39m          317 ns \u001b[0m\u001b[1m<\u001b[22m\n",
       "\n",
       " Memory estimate\u001b[90m: \u001b[39m\u001b[33m152 bytes\u001b[39m, allocs estimate\u001b[90m: \u001b[39m\u001b[33m8\u001b[39m."
      ]
     },
     "metadata": {},
     "output_type": "display_data"
    }
   ],
   "source": [
    "# dict의 빠른 속도를 이용해서 굳이 메모리를 낭비하지 않고도, 메모이제이션을 할 수 있다.\n",
    "using BenchmarkTools\n",
    "\n",
    "known = Dict(0=>0, 1=>1)\n",
    "function fi(n::BigInt) # 자료편 명시를 통한 속도 증가\n",
    "    if n ∈ keys(known)\n",
    "        return known[n]\n",
    "    end\n",
    "    res = fi(n - 1) + fi(n - 2)\n",
    "    known[n] = res # 전역변수를 서술하지 않아도, 값의 수정은 문제가 없지만 직접적인 수정은 문제가 된다\n",
    "    res\n",
    "end\n",
    "\n",
    "@benchmark fi(BigInt(1000))"
   ]
  },
  {
   "cell_type": "code",
   "execution_count": 66,
   "metadata": {},
   "outputs": [
    {
     "name": "stdout",
     "output_type": "stream",
     "text": [
      "false\n"
     ]
    }
   ],
   "source": [
    "# 지역변수와 전역변수\n",
    "tot_che = false\n",
    "\n",
    "function che()\n",
    "    tot_che = true # 전역변수에 아무런 영향을 미치지 못한다\n",
    "end\n",
    "\n",
    "che()\n",
    "println(tot_che)"
   ]
  },
  {
   "cell_type": "code",
   "execution_count": 67,
   "metadata": {},
   "outputs": [
    {
     "name": "stdout",
     "output_type": "stream",
     "text": [
      "true"
     ]
    }
   ],
   "source": [
    "tot_che = false\n",
    "\n",
    "function che()\n",
    "    global tot_che = true # 전역변수로 따로 불러내야 한다\n",
    "end\n",
    "\n",
    "che()\n",
    "println(tot_che)"
   ]
  },
  {
   "cell_type": "markdown",
   "metadata": {},
   "source": [
    "### 튜플"
   ]
  },
  {
   "cell_type": "code",
   "execution_count": 68,
   "metadata": {},
   "outputs": [
    {
     "name": "stdout",
     "output_type": "stream",
     "text": [
      "\n"
     ]
    },
    {
     "data": {
      "text/plain": [
       "(1, 2, 3, 4, 5, 6, 7, 8, 9, 10)"
      ]
     },
     "metadata": {},
     "output_type": "display_data"
    }
   ],
   "source": [
    "a = 1, 2, 3\n",
    "a = (1, 2, 3)\n",
    "a = tuple(1, 2, 3)\n",
    "a = (1,) # 괄호 없애면 터짐\n",
    "a = tuple(1:10...) # 뒤에서 자세히 서술"
   ]
  },
  {
   "cell_type": "code",
   "execution_count": 69,
   "metadata": {},
   "outputs": [
    {
     "name": "stdout",
     "output_type": "stream",
     "text": [
      "(10, 9, 8, 7, 6, 5, 4, 3, 2, 1)\n",
      "false\n",
      "2 1"
     ]
    },
    {
     "name": "stdout",
     "output_type": "stream",
     "text": [
      "\n"
     ]
    }
   ],
   "source": [
    "# 배열이랑 거의 비슷함\n",
    "a = tuple(1:10...)\n",
    "println(a[end:-1:1])\n",
    "\n",
    "# 하지면 불변이여서 값 안바뀜\n",
    "# a[1] = -1 # MethodError: no method matching setindex!\n",
    "println((1, 2, 3) < (-1, 100)) # 순서대로 값 비교\n",
    "\n",
    "a, b = 1, 2\n",
    "a, b = b, a # 값 바꾸기\n",
    "println(a, ' ', b)"
   ]
  },
  {
   "cell_type": "code",
   "execution_count": 70,
   "metadata": {},
   "outputs": [
    {
     "name": "stdout",
     "output_type": "stream",
     "text": [
      "2 1\n",
      "2 1\n"
     ]
    }
   ],
   "source": [
    "a = divrem(7, 3)\n",
    "println(join(a, \" \"))\n",
    "\n",
    "i, j = a\n",
    "println(i, ' ', j)"
   ]
  },
  {
   "cell_type": "code",
   "execution_count": 71,
   "metadata": {},
   "outputs": [
    {
     "name": "stdout",
     "output_type": "stream",
     "text": [
      "ㅇㅅㅇ~!\n",
      "0 2\n"
     ]
    }
   ],
   "source": [
    "function sumstring(args...)\n",
    "    join(args)\n",
    "end\n",
    "\n",
    "println(sumstring(\"ㅇㅅㅇ\", \"~\", \"!\"))\n",
    "\n",
    "a = 2, 7\n",
    "println(join(divrem(a...), \" \"))"
   ]
  },
  {
   "cell_type": "code",
   "execution_count": 72,
   "metadata": {},
   "outputs": [
    {
     "name": "stdout",
     "output_type": "stream",
     "text": [
      "a 1\n",
      "b 2\n",
      "c 3\n",
      "\n",
      "t 20\n",
      "u 21\n",
      "v 22\n",
      "w 23\n"
     ]
    }
   ],
   "source": [
    "_a = Int('a')\n",
    "\n",
    "a = [Char(_a + i) for i in 0:2]\n",
    "b = [1:3;]\n",
    "for (i, j) in zip(a, b)\n",
    "    println(i, ' ', j)\n",
    "end\n",
    "println()\n",
    "\n",
    "a = [Char(_a + i) for i in 19:22]\n",
    "b = [20:23;]\n",
    "for pair in zip(a, b)\n",
    "    println(pair[1], ' ', pair[2])\n",
    "end"
   ]
  },
  {
   "cell_type": "code",
   "execution_count": 73,
   "metadata": {},
   "outputs": [
    {
     "name": "stdout",
     "output_type": "stream",
     "text": [
      "a 1\n",
      "c 3\n",
      "d 4\n",
      "b 2\n"
     ]
    }
   ],
   "source": [
    "d = Dict('a'=>1, 'b'=>2, 'c'=>3, 'd'=>4)\n",
    "\n",
    "for (k, v) in d\n",
    "    println(k, ' ', v) # 순서는 랜덤임\n",
    "end"
   ]
  },
  {
   "cell_type": "code",
   "execution_count": 74,
   "metadata": {},
   "outputs": [
    {
     "data": {
      "text/plain": [
       "Dict{Char, Int64} with 3 entries:\n",
       "  'a' => 1\n",
       "  'c' => 3\n",
       "  'b' => 2"
      ]
     },
     "metadata": {},
     "output_type": "display_data"
    }
   ],
   "source": [
    "t = [('a', 1), ('b', 2), ('c', 3)]\n",
    "d = Dict(t)"
   ]
  },
  {
   "cell_type": "code",
   "execution_count": 75,
   "metadata": {},
   "outputs": [
    {
     "data": {
      "text/plain": [
       "Dict{Char, Int64} with 3 entries:\n",
       "  'a' => 1\n",
       "  'c' => 3\n",
       "  'b' => 2"
      ]
     },
     "metadata": {},
     "output_type": "display_data"
    }
   ],
   "source": [
    "d = Dict(zip(\"abc\", 1:3))"
   ]
  },
  {
   "cell_type": "code",
   "execution_count": 76,
   "metadata": {},
   "outputs": [
    {
     "data": {
      "text/plain": [
       "\"abcd\""
      ]
     },
     "metadata": {},
     "output_type": "display_data"
    }
   ],
   "source": [
    "# 연산자 오버로딩\n",
    "import Base.+ # 지역범위로 추가시키는 기능\n",
    "\n",
    "function +(a::String, b::String)\n",
    "    a * b\n",
    "end\n",
    "\n",
    "\"ab\" + \"cd\"\n",
    "# 이렇게 추가로 연산자의 가능을 추가함"
   ]
  },
  {
   "cell_type": "code",
   "execution_count": 77,
   "metadata": {},
   "outputs": [
    {
     "name": "stdout",
     "output_type": "stream",
     "text": [
      "even\n"
     ]
    }
   ],
   "source": [
    "a = 150\n",
    "println(a % 2 == 0 ? \"even\" : \"odd\")"
   ]
  },
  {
   "cell_type": "markdown",
   "metadata": {},
   "source": [
    "## 빠른 코드를 위한 규칙\n",
    "\n",
    "[Julia Document; Performance Tips](https://docs.julialang.org/en/v1/manual/performance-tips/)"
   ]
  },
  {
   "cell_type": "code",
   "execution_count": 78,
   "metadata": {},
   "outputs": [
    {
     "data": {
      "text/plain": [
       "100"
      ]
     },
     "metadata": {},
     "output_type": "display_data"
    }
   ],
   "source": [
    "# global 변수는 속도 저하를 유발한다.\n",
    "const ran_state = 100 # 만약 global 변수를 적용하고자 한다면, const를 이용한 상수를 이용하자"
   ]
  },
  {
   "cell_type": "code",
   "execution_count": 88,
   "metadata": {},
   "outputs": [
    {
     "data": {
      "text/plain": [
       "loop_inside (generic function with 1 method)"
      ]
     },
     "metadata": {},
     "output_type": "display_data"
    }
   ],
   "source": [
    "# 성능이 중요한 모든 코드는 함수에 있어야 한다.\n",
    "# global에서 바로 접근하지 말고 함수의 인자를 이용해야 한다.\n",
    "\n",
    "x = rand(1000)\n",
    "\n",
    "function loop_over_global()\n",
    "    s = 0.0\n",
    "    for i in x::Vector{Float64}\n",
    "        s += i\n",
    "    end\n",
    "    return s\n",
    "end\n",
    "\n",
    "function loop_over()\n",
    "    s = 0.0\n",
    "    for i in x\n",
    "        s += i\n",
    "    end\n",
    "    return s\n",
    "end\n",
    "\n",
    "function loop_inside(x::Vector{Float64})\n",
    "    s = 0.0\n",
    "    for i in x\n",
    "        s += i\n",
    "    end\n",
    "    return s\n",
    "end"
   ]
  },
  {
   "cell_type": "code",
   "execution_count": 89,
   "metadata": {},
   "outputs": [
    {
     "data": {
      "text/plain": [
       "BenchmarkTools.Trial: 10000 samples with 1 evaluation.\n",
       " Range \u001b[90m(\u001b[39m\u001b[36m\u001b[1mmin\u001b[22m\u001b[39m … \u001b[35mmax\u001b[39m\u001b[90m):  \u001b[39m\u001b[36m\u001b[1m61.500 μs\u001b[22m\u001b[39m … \u001b[35m 2.968 ms\u001b[39m  \u001b[90m┊\u001b[39m GC \u001b[90m(\u001b[39mmin … max\u001b[90m): \u001b[39m0.00% … 97.25%\n",
       " Time  \u001b[90m(\u001b[39m\u001b[34m\u001b[1mmedian\u001b[22m\u001b[39m\u001b[90m):     \u001b[39m\u001b[34m\u001b[1m64.200 μs              \u001b[22m\u001b[39m\u001b[90m┊\u001b[39m GC \u001b[90m(\u001b[39mmedian\u001b[90m):    \u001b[39m0.00%\n",
       " Time  \u001b[90m(\u001b[39m\u001b[32m\u001b[1mmean\u001b[22m\u001b[39m ± \u001b[32mσ\u001b[39m\u001b[90m):   \u001b[39m\u001b[32m\u001b[1m69.797 μs\u001b[22m\u001b[39m ± \u001b[32m96.710 μs\u001b[39m  \u001b[90m┊\u001b[39m GC \u001b[90m(\u001b[39mmean ± σ\u001b[90m):  \u001b[39m5.31% ±  3.76%\n",
       "\n",
       "  \u001b[39m▂\u001b[39m▆\u001b[39m▇\u001b[39m█\u001b[34m▇\u001b[39m\u001b[39m▅\u001b[39m▃\u001b[39m▁\u001b[39m \u001b[39m \u001b[39m \u001b[32m \u001b[39m\u001b[39m \u001b[39m \u001b[39m \u001b[39m \u001b[39m \u001b[39m▁\u001b[39m▁\u001b[39m \u001b[39m \u001b[39m \u001b[39m \u001b[39m \u001b[39m \u001b[39m▁\u001b[39m▁\u001b[39m▁\u001b[39m▁\u001b[39m \u001b[39m \u001b[39m \u001b[39m \u001b[39m \u001b[39m \u001b[39m \u001b[39m \u001b[39m \u001b[39m \u001b[39m \u001b[39m \u001b[39m \u001b[39m \u001b[39m \u001b[39m \u001b[39m \u001b[39m \u001b[39m \u001b[39m \u001b[39m \u001b[39m \u001b[39m \u001b[39m \u001b[39m \u001b[39m \u001b[39m \u001b[39m \u001b[39m \u001b[39m \u001b[39m \u001b[39m▂\n",
       "  \u001b[39m█\u001b[39m█\u001b[39m█\u001b[39m█\u001b[34m█\u001b[39m\u001b[39m█\u001b[39m█\u001b[39m█\u001b[39m█\u001b[39m█\u001b[39m▆\u001b[32m█\u001b[39m\u001b[39m▆\u001b[39m▇\u001b[39m█\u001b[39m█\u001b[39m█\u001b[39m█\u001b[39m█\u001b[39m█\u001b[39m█\u001b[39m▇\u001b[39m▇\u001b[39m▆\u001b[39m█\u001b[39m█\u001b[39m█\u001b[39m█\u001b[39m█\u001b[39m█\u001b[39m▇\u001b[39m▇\u001b[39m▆\u001b[39m▅\u001b[39m▇\u001b[39m▇\u001b[39m▅\u001b[39m▄\u001b[39m▅\u001b[39m▄\u001b[39m▃\u001b[39m▄\u001b[39m▄\u001b[39m▄\u001b[39m▄\u001b[39m▆\u001b[39m▅\u001b[39m▄\u001b[39m▁\u001b[39m▁\u001b[39m▄\u001b[39m▆\u001b[39m▆\u001b[39m▆\u001b[39m▅\u001b[39m▇\u001b[39m▆\u001b[39m▇\u001b[39m█\u001b[39m \u001b[39m█\n",
       "  61.5 μs\u001b[90m      \u001b[39m\u001b[90mHistogram: \u001b[39m\u001b[90m\u001b[1mlog(\u001b[22m\u001b[39m\u001b[90mfrequency\u001b[39m\u001b[90m\u001b[1m)\u001b[22m\u001b[39m\u001b[90m by time\u001b[39m       106 μs \u001b[0m\u001b[1m<\u001b[22m\n",
       "\n",
       " Memory estimate\u001b[90m: \u001b[39m\u001b[33m70.16 KiB\u001b[39m, allocs estimate\u001b[90m: \u001b[39m\u001b[33m3490\u001b[39m."
      ]
     },
     "metadata": {},
     "output_type": "display_data"
    }
   ],
   "source": [
    "@benchmark loop_over()"
   ]
  },
  {
   "cell_type": "code",
   "execution_count": 90,
   "metadata": {},
   "outputs": [
    {
     "data": {
      "text/plain": [
       "BenchmarkTools.Trial: 10000 samples with 165 evaluations.\n",
       " Range \u001b[90m(\u001b[39m\u001b[36m\u001b[1mmin\u001b[22m\u001b[39m … \u001b[35mmax\u001b[39m\u001b[90m):  \u001b[39m\u001b[36m\u001b[1m646.667 ns\u001b[22m\u001b[39m … \u001b[35m805.455 ns\u001b[39m  \u001b[90m┊\u001b[39m GC \u001b[90m(\u001b[39mmin … max\u001b[90m): \u001b[39m0.00% … 0.00%\n",
       " Time  \u001b[90m(\u001b[39m\u001b[34m\u001b[1mmedian\u001b[22m\u001b[39m\u001b[90m):     \u001b[39m\u001b[34m\u001b[1m650.909 ns               \u001b[22m\u001b[39m\u001b[90m┊\u001b[39m GC \u001b[90m(\u001b[39mmedian\u001b[90m):    \u001b[39m0.00%\n",
       " Time  \u001b[90m(\u001b[39m\u001b[32m\u001b[1mmean\u001b[22m\u001b[39m ± \u001b[32mσ\u001b[39m\u001b[90m):   \u001b[39m\u001b[32m\u001b[1m650.844 ns\u001b[22m\u001b[39m ± \u001b[32m  6.181 ns\u001b[39m  \u001b[90m┊\u001b[39m GC \u001b[90m(\u001b[39mmean ± σ\u001b[90m):  \u001b[39m0.00% ± 0.00%\n",
       "\n",
       "  \u001b[39m▁\u001b[39m \u001b[39m▆\u001b[39m \u001b[39m▂\u001b[39m \u001b[39m▁\u001b[39m \u001b[39m▁\u001b[39m \u001b[39m▂\u001b[39m \u001b[39m \u001b[39m▄\u001b[39m \u001b[34m█\u001b[39m\u001b[39m \u001b[39m▁\u001b[39m \u001b[39m \u001b[39m \u001b[39m \u001b[39m \u001b[39m▂\u001b[39m \u001b[39m \u001b[39m▄\u001b[39m \u001b[39m▂\u001b[39m \u001b[39m \u001b[39m \u001b[39m \u001b[39m \u001b[39m \u001b[39m \u001b[39m \u001b[39m \u001b[39m \u001b[39m \u001b[39m \u001b[39m \u001b[39m \u001b[39m \u001b[39m \u001b[39m \u001b[39m \u001b[39m \u001b[39m \u001b[39m \u001b[39m \u001b[39m \u001b[39m \u001b[39m \u001b[39m \u001b[39m \u001b[39m \u001b[39m \u001b[39m \u001b[39m \u001b[39m \u001b[39m \u001b[39m▁\n",
       "  \u001b[39m█\u001b[39m▁\u001b[39m█\u001b[39m▁\u001b[39m█\u001b[39m▁\u001b[39m█\u001b[39m▁\u001b[39m█\u001b[39m▁\u001b[39m█\u001b[39m▁\u001b[39m▁\u001b[39m█\u001b[39m▁\u001b[34m█\u001b[39m\u001b[39m▁\u001b[39m█\u001b[39m▁\u001b[39m▇\u001b[39m▁\u001b[39m▆\u001b[39m▁\u001b[39m█\u001b[39m▁\u001b[39m▁\u001b[39m█\u001b[39m▁\u001b[39m█\u001b[39m▁\u001b[39m█\u001b[39m▁\u001b[39m▇\u001b[39m▁\u001b[39m▇\u001b[39m▁\u001b[39m▁\u001b[39m▇\u001b[39m▁\u001b[39m▇\u001b[39m▁\u001b[39m▇\u001b[39m▁\u001b[39m▆\u001b[39m▁\u001b[39m▆\u001b[39m▁\u001b[39m▆\u001b[39m▁\u001b[39m▁\u001b[39m▆\u001b[39m▁\u001b[39m▆\u001b[39m▁\u001b[39m▅\u001b[39m▁\u001b[39m▅\u001b[39m▁\u001b[39m▅\u001b[39m▁\u001b[39m▆\u001b[39m \u001b[39m█\n",
       "  647 ns\u001b[90m        \u001b[39m\u001b[90mHistogram: \u001b[39m\u001b[90m\u001b[1mlog(\u001b[22m\u001b[39m\u001b[90mfrequency\u001b[39m\u001b[90m\u001b[1m)\u001b[22m\u001b[39m\u001b[90m by time\u001b[39m        664 ns \u001b[0m\u001b[1m<\u001b[22m\n",
       "\n",
       " Memory estimate\u001b[90m: \u001b[39m\u001b[33m0 bytes\u001b[39m, allocs estimate\u001b[90m: \u001b[39m\u001b[33m0\u001b[39m."
      ]
     },
     "metadata": {},
     "output_type": "display_data"
    }
   ],
   "source": [
    "@benchmark loop_over_global() # 바로 굳이 접근하고 싶으면 이렇게 사용하자"
   ]
  },
  {
   "cell_type": "code",
   "execution_count": 91,
   "metadata": {},
   "outputs": [
    {
     "data": {
      "text/plain": [
       "BenchmarkTools.Trial: 10000 samples with 164 evaluations.\n",
       " Range \u001b[90m(\u001b[39m\u001b[36m\u001b[1mmin\u001b[22m\u001b[39m … \u001b[35mmax\u001b[39m\u001b[90m):  \u001b[39m\u001b[36m\u001b[1m650.610 ns\u001b[22m\u001b[39m … \u001b[35m851.220 ns\u001b[39m  \u001b[90m┊\u001b[39m GC \u001b[90m(\u001b[39mmin … max\u001b[90m): \u001b[39m0.00% … 0.00%\n",
       " Time  \u001b[90m(\u001b[39m\u001b[34m\u001b[1mmedian\u001b[22m\u001b[39m\u001b[90m):     \u001b[39m\u001b[34m\u001b[1m654.268 ns               \u001b[22m\u001b[39m\u001b[90m┊\u001b[39m GC \u001b[90m(\u001b[39mmedian\u001b[90m):    \u001b[39m0.00%\n",
       " Time  \u001b[90m(\u001b[39m\u001b[32m\u001b[1mmean\u001b[22m\u001b[39m ± \u001b[32mσ\u001b[39m\u001b[90m):   \u001b[39m\u001b[32m\u001b[1m653.937 ns\u001b[22m\u001b[39m ± \u001b[32m  6.668 ns\u001b[39m  \u001b[90m┊\u001b[39m GC \u001b[90m(\u001b[39mmean ± σ\u001b[90m):  \u001b[39m0.00% ± 0.00%\n",
       "\n",
       "  \u001b[39m \u001b[39m \u001b[39m█\u001b[39m \u001b[39m \u001b[39m \u001b[39m \u001b[39m \u001b[39m \u001b[39m \u001b[39m \u001b[39m \u001b[39m \u001b[39m \u001b[39m \u001b[32m \u001b[39m\u001b[39m▁\u001b[34m \u001b[39m\u001b[39m \u001b[39m█\u001b[39m \u001b[39m \u001b[39m▂\u001b[39m \u001b[39m \u001b[39m \u001b[39m \u001b[39m \u001b[39m \u001b[39m \u001b[39m \u001b[39m \u001b[39m \u001b[39m \u001b[39m \u001b[39m \u001b[39m \u001b[39m \u001b[39m \u001b[39m \u001b[39m \u001b[39m \u001b[39m \u001b[39m \u001b[39m \u001b[39m \u001b[39m \u001b[39m \u001b[39m \u001b[39m \u001b[39m \u001b[39m \u001b[39m \u001b[39m \u001b[39m \u001b[39m \u001b[39m \u001b[39m \u001b[39m \u001b[39m \u001b[39m \u001b[39m \u001b[39m \n",
       "  \u001b[39m█\u001b[39m▁\u001b[39m█\u001b[39m▁\u001b[39m▁\u001b[39m█\u001b[39m▁\u001b[39m▁\u001b[39m▃\u001b[39m▁\u001b[39m▁\u001b[39m▃\u001b[39m▁\u001b[39m▃\u001b[39m▁\u001b[32m▁\u001b[39m\u001b[39m█\u001b[34m▁\u001b[39m\u001b[39m▁\u001b[39m█\u001b[39m▁\u001b[39m▁\u001b[39m█\u001b[39m▁\u001b[39m▂\u001b[39m▁\u001b[39m▁\u001b[39m▂\u001b[39m▁\u001b[39m▁\u001b[39m▃\u001b[39m▁\u001b[39m▁\u001b[39m▃\u001b[39m▁\u001b[39m▁\u001b[39m▃\u001b[39m▁\u001b[39m▂\u001b[39m▁\u001b[39m▁\u001b[39m▂\u001b[39m▁\u001b[39m▁\u001b[39m▂\u001b[39m▁\u001b[39m▁\u001b[39m▂\u001b[39m▁\u001b[39m▂\u001b[39m▁\u001b[39m▁\u001b[39m▂\u001b[39m▁\u001b[39m▁\u001b[39m▂\u001b[39m▁\u001b[39m▁\u001b[39m▂\u001b[39m▁\u001b[39m▂\u001b[39m \u001b[39m▃\n",
       "  651 ns\u001b[90m           Histogram: frequency by time\u001b[39m          664 ns \u001b[0m\u001b[1m<\u001b[22m\n",
       "\n",
       " Memory estimate\u001b[90m: \u001b[39m\u001b[33m0 bytes\u001b[39m, allocs estimate\u001b[90m: \u001b[39m\u001b[33m0\u001b[39m."
      ]
     },
     "metadata": {},
     "output_type": "display_data"
    }
   ],
   "source": [
    "@benchmark loop_inside(x) # 되도록이면 인자를 건네주는 방식으로 사용하자"
   ]
  },
  {
   "cell_type": "code",
   "execution_count": 92,
   "metadata": {},
   "outputs": [
    {
     "name": "stdout",
     "output_type": "stream",
     "text": [
      "Real[1, 2.0, π]\n",
      "[1.0, 2.0, 3.141592653589793]"
     ]
    },
    {
     "name": "stdout",
     "output_type": "stream",
     "text": [
      "\n"
     ]
    }
   ],
   "source": [
    "# 추상적인 매개변수를 가지는 배열을 사용하지 말자\n",
    "a = Real[]\n",
    "push!(a, 1); push!(a, 2.0); push!(a, π) # 이러한 코드 대신에\n",
    "println(a)\n",
    "\n",
    "a = Float64[]\n",
    "push!(a, 1); push!(a, 2.0); push!(a, π) # 이런 코드를 사용하자\n",
    "println(a)"
   ]
  },
  {
   "cell_type": "code",
   "execution_count": 95,
   "metadata": {},
   "outputs": [
    {
     "name": "stdout",
     "output_type": "stream",
     "text": [
      "MyAmbiguousType(\"Hello\")\n",
      "MyAmbiguousType(17)\n"
     ]
    }
   ],
   "source": [
    "# 타입을 지정해서 애매한 유형들을 사용하지 말자\n",
    "struct MyAmbiguousType\n",
    "    a\n",
    "end\n",
    "b = MyAmbiguousType(\"Hello\")\n",
    "c = MyAmbiguousType(17)\n",
    "\n",
    "println(b)\n",
    "println(c)\n",
    "\n",
    "# 이들을 어떻게 처리해야할지 결정할 수 없기 때문에 성능이 저하된다."
   ]
  },
  {
   "cell_type": "code",
   "execution_count": 96,
   "metadata": {},
   "outputs": [
    {
     "name": "stdout",
     "output_type": "stream",
     "text": [
      "MyType{Float64}\n",
      "MyStillAmbiguousType\n"
     ]
    }
   ],
   "source": [
    "mutable struct MyType{T<:AbstractFloat} # Good!\n",
    "    a::T\n",
    "end\n",
    "\n",
    "mutable struct MyStillAmbiguousType # Bad..\n",
    "    a::AbstractFloat\n",
    "end\n",
    "\n",
    "m = MyType(0.0)\n",
    "t = MyStillAmbiguousType(0.0)\n",
    "\n",
    "println(typeof(m))\n",
    "println(typeof(t))"
   ]
  },
  {
   "cell_type": "code",
   "execution_count": 97,
   "metadata": {},
   "outputs": [
    {
     "name": "stdout",
     "output_type": "stream",
     "text": [
      "Float64\n",
      "Float64\n",
      "Float64\n",
      "Float32\n"
     ]
    }
   ],
   "source": [
    "# 이러한 차이는 내부상 모호성을 유발하여 성능을 저하시킨다.\n",
    "\n",
    "println(typeof(m.a))\n",
    "println(typeof(t.a))\n",
    "\n",
    "t.a = m.a = 4.5f0\n",
    "\n",
    "println(typeof(m.a))\n",
    "println(typeof(t.a)) # type이 중간에 바뀌게 되어서 정확하게 알 수 없다"
   ]
  },
  {
   "cell_type": "code",
   "execution_count": null,
   "metadata": {},
   "outputs": [],
   "source": [
    "t = MyType{Float64}(0.0)\n",
    "# 사실 이러한 현상이 t에서 일어난 이유는 MyType(0.0)이 형식을 지정해준 것과 같기 때문이다.\n",
    "\n",
    "t = MyType{AbstractFloat}(0.0)\n",
    "# 이렇게 하면 형식을 바꾸면 바뀐다."
   ]
  },
  {
   "cell_type": "code",
   "execution_count": 99,
   "metadata": {},
   "outputs": [
    {
     "name": "stdout",
     "output_type": "stream",
     "text": [
      "\u001b[90m;  @ c:\\OOP\\JulialearnProject\\main.ipynb:1 within `func`\u001b[39m\n",
      "\u001b[90m; Function Attrs: uwtable\u001b[39m\n",
      "\u001b[95mdefine\u001b[39m \u001b[36mdouble\u001b[39m \u001b[93m@julia_func_5438\u001b[39m\u001b[33m(\u001b[39m\u001b[33m{\u001b[39m\u001b[33m}\u001b[39m\u001b[0m* \u001b[95mnonnull\u001b[39m \u001b[95malign\u001b[39m \u001b[33m8\u001b[39m \u001b[95mdereferenceable\u001b[39m\u001b[33m(\u001b[39m\u001b[33m8\u001b[39m\u001b[33m)\u001b[39m \u001b[0m%0\u001b[33m)\u001b[39m \u001b[0m#0 \u001b[33m{\u001b[39m\n",
      "\u001b[91mtop:\u001b[39m\n",
      "\u001b[90m; ┌ @ Base.jl:42 within `getproperty`\u001b[39m\n",
      "   \u001b[0m%1 \u001b[0m= \u001b[96m\u001b[1mbitcast\u001b[22m\u001b[39m \u001b[33m{\u001b[39m\u001b[33m}\u001b[39m\u001b[0m* \u001b[0m%0 \u001b[95mto\u001b[39m \u001b[36mdouble\u001b[39m\u001b[0m*\n",
      "   \u001b[0m%2 \u001b[0m= \u001b[96m\u001b[1mload\u001b[22m\u001b[39m \u001b[36mdouble\u001b[39m\u001b[0m, \u001b[36mdouble\u001b[39m\u001b[0m* \u001b[0m%1\u001b[0m, \u001b[95malign\u001b[39m \u001b[33m8\u001b[39m\n",
      "\u001b[90m; └\u001b[39m\n",
      "\u001b[90m; ┌ @ promotion.jl:379 within `+` @ float.jl:399\u001b[39m\n",
      "   \u001b[0m%3 \u001b[0m= \u001b[96m\u001b[1mfadd\u001b[22m\u001b[39m \u001b[36mdouble\u001b[39m \u001b[0m%2\u001b[0m, \u001b[33m1.000000e+00\u001b[39m\n",
      "\u001b[90m; └\u001b[39m\n",
      "  \u001b[96m\u001b[1mret\u001b[22m\u001b[39m \u001b[36mdouble\u001b[39m \u001b[0m%3\n",
      "\u001b[33m}\u001b[39m\n"
     ]
    }
   ],
   "source": [
    "func(m::MyType) = m.a+1\n",
    "\n",
    "code_llvm(func, Tuple{MyType{Float64}})"
   ]
  },
  {
   "cell_type": "code",
   "execution_count": 100,
   "metadata": {},
   "outputs": [
    {
     "name": "stdout",
     "output_type": "stream",
     "text": [
      "\u001b[90m;  @ c:\\OOP\\JulialearnProject\\main.ipynb:1 within `func`\u001b[39m\n",
      "\u001b[90m; Function Attrs: uwtable\u001b[39m\n",
      "\u001b[95mdefine\u001b[39m \u001b[95mnonnull\u001b[39m \u001b[33m{\u001b[39m\u001b[33m}\u001b[39m\u001b[0m* \u001b[93m@japi1_func_5440\u001b[39m\u001b[33m(\u001b[39m\u001b[33m{\u001b[39m\u001b[33m}\u001b[39m\u001b[0m* \u001b[0m%0\u001b[0m, \u001b[33m{\u001b[39m\u001b[33m}\u001b[39m\u001b[0m** \u001b[0m%1\u001b[0m, \u001b[36mi32\u001b[39m \u001b[0m%2\u001b[33m)\u001b[39m \u001b[0m#0 \u001b[33m{\u001b[39m\n",
      "\u001b[91mtop:\u001b[39m\n",
      "  \u001b[0m%3 \u001b[0m= \u001b[96m\u001b[1malloca\u001b[22m\u001b[39m \u001b[33m[\u001b[39m\u001b[33m2\u001b[39m \u001b[0mx \u001b[33m{\u001b[39m\u001b[33m}\u001b[39m\u001b[0m*\u001b[33m]\u001b[39m\u001b[0m, \u001b[95malign\u001b[39m \u001b[33m8\u001b[39m\n",
      "  \u001b[0m%gcframe2 \u001b[0m= \u001b[96m\u001b[1malloca\u001b[22m\u001b[39m \u001b[33m[\u001b[39m\u001b[33m3\u001b[39m \u001b[0mx \u001b[33m{\u001b[39m\u001b[33m}\u001b[39m\u001b[0m*\u001b[33m]\u001b[39m\u001b[0m, \u001b[95malign\u001b[39m \u001b[33m16\u001b[39m\n",
      "  \u001b[0m%gcframe2.sub \u001b[0m= \u001b[96m\u001b[1mgetelementptr\u001b[22m\u001b[39m \u001b[95minbounds\u001b[39m \u001b[33m[\u001b[39m\u001b[33m3\u001b[39m \u001b[0mx \u001b[33m{\u001b[39m\u001b[33m}\u001b[39m\u001b[0m*\u001b[33m]\u001b[39m\u001b[0m, \u001b[33m[\u001b[39m\u001b[33m3\u001b[39m \u001b[0mx \u001b[33m{\u001b[39m\u001b[33m}\u001b[39m\u001b[0m*\u001b[33m]\u001b[39m\u001b[0m* \u001b[0m%gcframe2\u001b[0m, \u001b[36mi64\u001b[39m \u001b[33m0\u001b[39m\u001b[0m, \u001b[36mi64\u001b[39m \u001b[33m0\u001b[39m\n",
      "  \u001b[0m%.sub \u001b[0m= \u001b[96m\u001b[1mgetelementptr\u001b[22m\u001b[39m \u001b[95minbounds\u001b[39m \u001b[33m[\u001b[39m\u001b[33m2\u001b[39m \u001b[0mx \u001b[33m{\u001b[39m\u001b[33m}\u001b[39m\u001b[0m*\u001b[33m]\u001b[39m\u001b[0m, \u001b[33m[\u001b[39m\u001b[33m2\u001b[39m \u001b[0mx \u001b[33m{\u001b[39m\u001b[33m}\u001b[39m\u001b[0m*\u001b[33m]\u001b[39m\u001b[0m* \u001b[0m%3\u001b[0m, \u001b[36mi64\u001b[39m \u001b[33m0\u001b[39m\u001b[0m, \u001b[36mi64\u001b[39m \u001b[33m0\u001b[39m\n",
      "  \u001b[0m%4 \u001b[0m= \u001b[96m\u001b[1mbitcast\u001b[22m\u001b[39m \u001b[33m[\u001b[39m\u001b[33m3\u001b[39m \u001b[0mx \u001b[33m{\u001b[39m\u001b[33m}\u001b[39m\u001b[0m*\u001b[33m]\u001b[39m\u001b[0m* \u001b[0m%gcframe2 \u001b[95mto\u001b[39m \u001b[36mi8\u001b[39m\u001b[0m*\n",
      "  \u001b[96m\u001b[1mcall\u001b[22m\u001b[39m \u001b[36mvoid\u001b[39m \u001b[93m@llvm.memset.p0i8.i32\u001b[39m\u001b[33m(\u001b[39m\u001b[36mi8\u001b[39m\u001b[0m* \u001b[95mnonnull\u001b[39m \u001b[95malign\u001b[39m \u001b[33m16\u001b[39m \u001b[95mdereferenceable\u001b[39m\u001b[33m(\u001b[39m\u001b[33m24\u001b[39m\u001b[33m)\u001b[39m \u001b[0m%4\u001b[0m, \u001b[36mi8\u001b[39m \u001b[33m0\u001b[39m\u001b[0m, \u001b[36mi32\u001b[39m \u001b[33m24\u001b[39m\u001b[0m, \u001b[36mi1\u001b[39m \u001b[95mfalse\u001b[39m\u001b[33m)\u001b[39m\n",
      "  \u001b[0m%5 \u001b[0m= \u001b[96m\u001b[1malloca\u001b[22m\u001b[39m \u001b[33m{\u001b[39m\u001b[33m}\u001b[39m\u001b[0m**\u001b[0m, \u001b[95malign\u001b[39m \u001b[33m8\u001b[39m\n",
      "  \u001b[96m\u001b[1mstore\u001b[22m\u001b[39m \u001b[95mvolatile\u001b[39m \u001b[33m{\u001b[39m\u001b[33m}\u001b[39m\u001b[0m** \u001b[0m%1\u001b[0m, \u001b[33m{\u001b[39m\u001b[33m}\u001b[39m\u001b[0m*** \u001b[0m%5\u001b[0m, \u001b[95malign\u001b[39m \u001b[33m8\u001b[39m\n",
      "  \u001b[0m%6 \u001b[0m= \u001b[96m\u001b[1mcall\u001b[22m\u001b[39m \u001b[33m{\u001b[39m\u001b[33m}\u001b[39m\u001b[0m*** \u001b[95minttoptr\u001b[39m \u001b[33m(\u001b[39m\u001b[36mi64\u001b[39m \u001b[33m41539824\u001b[39m \u001b[95mto\u001b[39m \u001b[33m{\u001b[39m\u001b[33m}\u001b[39m\u001b[0m*** \u001b[33m(\u001b[39m\u001b[33m)\u001b[39m\u001b[0m*\u001b[33m)\u001b[39m\u001b[33m(\u001b[39m\u001b[33m)\u001b[39m \u001b[0m#2\n",
      "  \u001b[0m%7 \u001b[0m= \u001b[96m\u001b[1mbitcast\u001b[22m\u001b[39m \u001b[33m[\u001b[39m\u001b[33m3\u001b[39m \u001b[0mx \u001b[33m{\u001b[39m\u001b[33m}\u001b[39m\u001b[0m*\u001b[33m]\u001b[39m\u001b[0m* \u001b[0m%gcframe2 \u001b[95mto\u001b[39m \u001b[36mi64\u001b[39m\u001b[0m*\n",
      "  \u001b[96m\u001b[1mstore\u001b[22m\u001b[39m \u001b[36mi64\u001b[39m \u001b[33m4\u001b[39m\u001b[0m, \u001b[36mi64\u001b[39m\u001b[0m* \u001b[0m%7\u001b[0m, \u001b[95malign\u001b[39m \u001b[33m16\u001b[39m\n",
      "  \u001b[0m%8 \u001b[0m= \u001b[96m\u001b[1mgetelementptr\u001b[22m\u001b[39m \u001b[95minbounds\u001b[39m \u001b[33m[\u001b[39m\u001b[33m3\u001b[39m \u001b[0mx \u001b[33m{\u001b[39m\u001b[33m}\u001b[39m\u001b[0m*\u001b[33m]\u001b[39m\u001b[0m, \u001b[33m[\u001b[39m\u001b[33m3\u001b[39m \u001b[0mx \u001b[33m{\u001b[39m\u001b[33m}\u001b[39m\u001b[0m*\u001b[33m]\u001b[39m\u001b[0m* \u001b[0m%gcframe2\u001b[0m, \u001b[36mi64\u001b[39m \u001b[33m0\u001b[39m\u001b[0m, \u001b[36mi64\u001b[39m \u001b[33m1\u001b[39m\n",
      "  \u001b[0m%9 \u001b[0m= \u001b[96m\u001b[1mbitcast\u001b[22m\u001b[39m \u001b[33m{\u001b[39m\u001b[33m}\u001b[39m\u001b[0m** \u001b[0m%8 \u001b[95mto\u001b[39m \u001b[33m{\u001b[39m\u001b[33m}\u001b[39m\u001b[0m***\n",
      "  \u001b[0m%10 \u001b[0m= \u001b[96m\u001b[1mload\u001b[22m\u001b[39m \u001b[33m{\u001b[39m\u001b[33m}\u001b[39m\u001b[0m**\u001b[0m, \u001b[33m{\u001b[39m\u001b[33m}\u001b[39m\u001b[0m*** \u001b[0m%6\u001b[0m, \u001b[95malign\u001b[39m \u001b[33m8\u001b[39m\n",
      "  \u001b[96m\u001b[1mstore\u001b[22m\u001b[39m \u001b[33m{\u001b[39m\u001b[33m}\u001b[39m\u001b[0m** \u001b[0m%10\u001b[0m, \u001b[33m{\u001b[39m\u001b[33m}\u001b[39m\u001b[0m*** \u001b[0m%9\u001b[0m, \u001b[95malign\u001b[39m \u001b[33m8\u001b[39m\n",
      "  \u001b[0m%11 \u001b[0m= \u001b[96m\u001b[1mbitcast\u001b[22m\u001b[39m \u001b[33m{\u001b[39m\u001b[33m}\u001b[39m\u001b[0m*** \u001b[0m%6 \u001b[95mto\u001b[39m \u001b[33m{\u001b[39m\u001b[33m}\u001b[39m\u001b[0m***\n",
      "  \u001b[96m\u001b[1mstore\u001b[22m\u001b[39m \u001b[33m{\u001b[39m\u001b[33m}\u001b[39m\u001b[0m** \u001b[0m%gcframe2.sub\u001b[0m, \u001b[33m{\u001b[39m\u001b[33m}\u001b[39m\u001b[0m*** \u001b[0m%11\u001b[0m, \u001b[95malign\u001b[39m \u001b[33m8\u001b[39m\n",
      "  \u001b[0m%12 \u001b[0m= \u001b[96m\u001b[1mbitcast\u001b[22m\u001b[39m \u001b[33m{\u001b[39m\u001b[33m}\u001b[39m\u001b[0m** \u001b[0m%1 \u001b[95mto\u001b[39m \u001b[33m{\u001b[39m\u001b[33m}\u001b[39m\u001b[0m***\n",
      "  \u001b[0m%13 \u001b[0m= \u001b[96m\u001b[1mload\u001b[22m\u001b[39m \u001b[33m{\u001b[39m\u001b[33m}\u001b[39m\u001b[0m**\u001b[0m, \u001b[33m{\u001b[39m\u001b[33m}\u001b[39m\u001b[0m*** \u001b[0m%12\u001b[0m, \u001b[95malign\u001b[39m \u001b[33m8\u001b[39m\n",
      "\u001b[90m; ┌ @ Base.jl:42 within `getproperty`\u001b[39m\n",
      "   \u001b[0m%14 \u001b[0m= \u001b[96m\u001b[1mload\u001b[22m\u001b[39m \u001b[95matomic\u001b[39m \u001b[33m{\u001b[39m\u001b[33m}\u001b[39m\u001b[0m*\u001b[0m, \u001b[33m{\u001b[39m\u001b[33m}\u001b[39m\u001b[0m** \u001b[0m%13 \u001b[95munordered\u001b[39m\u001b[0m, \u001b[95malign\u001b[39m \u001b[33m8\u001b[39m\n",
      "   \u001b[0m%15 \u001b[0m= \u001b[96m\u001b[1mgetelementptr\u001b[22m\u001b[39m \u001b[95minbounds\u001b[39m \u001b[33m[\u001b[39m\u001b[33m3\u001b[39m \u001b[0mx \u001b[33m{\u001b[39m\u001b[33m}\u001b[39m\u001b[0m*\u001b[33m]\u001b[39m\u001b[0m, \u001b[33m[\u001b[39m\u001b[33m3\u001b[39m \u001b[0mx \u001b[33m{\u001b[39m\u001b[33m}\u001b[39m\u001b[0m*\u001b[33m]\u001b[39m\u001b[0m* \u001b[0m%gcframe2\u001b[0m, \u001b[36mi64\u001b[39m \u001b[33m0\u001b[39m\u001b[0m, \u001b[36mi64\u001b[39m \u001b[33m2\u001b[39m\n",
      "   \u001b[96m\u001b[1mstore\u001b[22m\u001b[39m \u001b[33m{\u001b[39m\u001b[33m}\u001b[39m\u001b[0m* \u001b[0m%14\u001b[0m, \u001b[33m{\u001b[39m\u001b[33m}\u001b[39m\u001b[0m** \u001b[0m%15\u001b[0m, \u001b[95malign\u001b[39m \u001b[33m16\u001b[39m\n",
      "\u001b[90m; └\u001b[39m\n",
      "  \u001b[96m\u001b[1mstore\u001b[22m\u001b[39m \u001b[33m{\u001b[39m\u001b[33m}\u001b[39m\u001b[0m* \u001b[0m%14\u001b[0m, \u001b[33m{\u001b[39m\u001b[33m}\u001b[39m\u001b[0m** \u001b[0m%.sub\u001b[0m, \u001b[95malign\u001b[39m \u001b[33m8\u001b[39m\n",
      "  \u001b[0m%16 \u001b[0m= \u001b[96m\u001b[1mgetelementptr\u001b[22m\u001b[39m \u001b[95minbounds\u001b[39m \u001b[33m[\u001b[39m\u001b[33m2\u001b[39m \u001b[0mx \u001b[33m{\u001b[39m\u001b[33m}\u001b[39m\u001b[0m*\u001b[33m]\u001b[39m\u001b[0m, \u001b[33m[\u001b[39m\u001b[33m2\u001b[39m \u001b[0mx \u001b[33m{\u001b[39m\u001b[33m}\u001b[39m\u001b[0m*\u001b[33m]\u001b[39m\u001b[0m* \u001b[0m%3\u001b[0m, \u001b[36mi64\u001b[39m \u001b[33m0\u001b[39m\u001b[0m, \u001b[36mi64\u001b[39m \u001b[33m1\u001b[39m\n",
      "  \u001b[96m\u001b[1mstore\u001b[22m\u001b[39m \u001b[33m{\u001b[39m\u001b[33m}\u001b[39m\u001b[0m* \u001b[95minttoptr\u001b[39m \u001b[33m(\u001b[39m\u001b[36mi64\u001b[39m \u001b[33m182157408\u001b[39m \u001b[95mto\u001b[39m \u001b[33m{\u001b[39m\u001b[33m}\u001b[39m\u001b[0m*\u001b[33m)\u001b[39m\u001b[0m, \u001b[33m{\u001b[39m\u001b[33m}\u001b[39m\u001b[0m** \u001b[0m%16\u001b[0m, \u001b[95malign\u001b[39m \u001b[33m8\u001b[39m\n",
      "  \u001b[0m%17 \u001b[0m= \u001b[96m\u001b[1mcall\u001b[22m\u001b[39m \u001b[95mnonnull\u001b[39m \u001b[33m{\u001b[39m\u001b[33m}\u001b[39m\u001b[0m* \u001b[93m@jl_apply_generic\u001b[39m\u001b[33m(\u001b[39m\u001b[33m{\u001b[39m\u001b[33m}\u001b[39m\u001b[0m* \u001b[95minttoptr\u001b[39m \u001b[33m(\u001b[39m\u001b[36mi64\u001b[39m \u001b[33m299921248\u001b[39m \u001b[95mto\u001b[39m \u001b[33m{\u001b[39m\u001b[33m}\u001b[39m\u001b[0m*\u001b[33m)\u001b[39m\u001b[0m, \u001b[33m{\u001b[39m\u001b[33m}\u001b[39m\u001b[0m** \u001b[95mnonnull\u001b[39m \u001b[0m%.sub\u001b[0m, \u001b[36mi32\u001b[39m \u001b[33m2\u001b[39m\u001b[33m)\u001b[39m\n",
      "  \u001b[0m%18 \u001b[0m= \u001b[96m\u001b[1mload\u001b[22m\u001b[39m \u001b[33m{\u001b[39m\u001b[33m}\u001b[39m\u001b[0m*\u001b[0m, \u001b[33m{\u001b[39m\u001b[33m}\u001b[39m\u001b[0m** \u001b[0m%8\u001b[0m, \u001b[95malign\u001b[39m \u001b[33m8\u001b[39m\n",
      "  \u001b[0m%19 \u001b[0m= \u001b[96m\u001b[1mbitcast\u001b[22m\u001b[39m \u001b[33m{\u001b[39m\u001b[33m}\u001b[39m\u001b[0m*** \u001b[0m%6 \u001b[95mto\u001b[39m \u001b[33m{\u001b[39m\u001b[33m}\u001b[39m\u001b[0m**\n",
      "  \u001b[96m\u001b[1mstore\u001b[22m\u001b[39m \u001b[33m{\u001b[39m\u001b[33m}\u001b[39m\u001b[0m* \u001b[0m%18\u001b[0m, \u001b[33m{\u001b[39m\u001b[33m}\u001b[39m\u001b[0m** \u001b[0m%19\u001b[0m, \u001b[95malign\u001b[39m \u001b[33m8\u001b[39m\n",
      "  \u001b[96m\u001b[1mret\u001b[22m\u001b[39m \u001b[33m{\u001b[39m\u001b[33m}\u001b[39m\u001b[0m* \u001b[0m%17\n",
      "\u001b[33m}\u001b[39m\n"
     ]
    }
   ],
   "source": [
    "code_llvm(func, Tuple{MyType{AbstractFloat}}) # 이러한 불분명한 형태는 속도를 감소시킨다."
   ]
  },
  {
   "cell_type": "code",
   "execution_count": 102,
   "metadata": {},
   "outputs": [],
   "source": [
    "# 이는 배열에서도 마찬가지이다.\n",
    "\n",
    "struct MySimpleContainer{A<:AbstractVector}\n",
    "    a::A\n",
    "end\n",
    "\n",
    "struct MyAmbiguousContainer{T}\n",
    "    a::AbstractVector{T}\n",
    "end"
   ]
  },
  {
   "cell_type": "code",
   "execution_count": 103,
   "metadata": {},
   "outputs": [
    {
     "name": "stdout",
     "output_type": "stream",
     "text": [
      "6\n",
      "8.0\n"
     ]
    }
   ],
   "source": [
    "# 하나의 struct에 두개가 들어오는 경우에는 이러한 방법이 가장 좋다\n",
    "function sumfoo(c::MySimpleContainer)\n",
    "    s = 0\n",
    "    for x in c.a\n",
    "        s += foo(x)\n",
    "    end\n",
    "    s\n",
    "end\n",
    "\n",
    "foo(x::Integer) = x\n",
    "foo(x::AbstractFloat) = round(x)\n",
    "\n",
    "println(sumfoo(MySimpleContainer(1:3)))\n",
    "println(sumfoo(MySimpleContainer(1.5:3.5)))"
   ]
  },
  {
   "cell_type": "code",
   "execution_count": 109,
   "metadata": {},
   "outputs": [
    {
     "data": {
      "text/plain": [
       "myfunc (generic function with 4 methods)"
      ]
     },
     "metadata": {},
     "output_type": "display_data"
    }
   ],
   "source": [
    "# 하지만 따로 처리해야 한다면?\n",
    "\n",
    "function myfunc(c::MySimpleContainer{<:AbstractArray{<:Integer}})\n",
    "    return c.a[1]+1\n",
    "end\n",
    "\n",
    "function myfunc(c::MySimpleContainer{<:AbstractArray{<:AbstractFloat}})\n",
    "    return c.a[1]+2\n",
    "end\n",
    "\n",
    "function myfunc(c::MySimpleContainer{Vector{T}}) where Int<:T<:Real\n",
    "    return c.a[1]+3\n",
    "end\n",
    "\n",
    "myfunc # method가 중첩되서 3개라는 사실에 주목하자"
   ]
  },
  {
   "cell_type": "code",
   "execution_count": 110,
   "metadata": {},
   "outputs": [
    {
     "data": {
      "text/plain": [
       "4"
      ]
     },
     "metadata": {},
     "output_type": "display_data"
    }
   ],
   "source": [
    "myfunc(MySimpleContainer([1:3;]))"
   ]
  },
  {
   "cell_type": "code",
   "execution_count": null,
   "metadata": {},
   "outputs": [],
   "source": [
    "# Any를 쓰더라도 아는 형태가 있으면 Type을 지정해주자\n",
    "function foo(a::Array{Any,1})\n",
    "    x = a[1]::Int32 # 이러한 코드는 성능 향상에 도움을 줄 뿐만 아니라, 디버깅을 하는 효과도 같이 가지고 있다.\n",
    "    return x^x\n",
    "end"
   ]
  },
  {
   "cell_type": "code",
   "execution_count": null,
   "metadata": {},
   "outputs": [],
   "source": [
    "# 동적인 타입 지정은 성능 향상에 도움을 주지 않는다.\n",
    "function nr(a, prec)\n",
    "    ctype = prec == 32 ? Float32 : Float64\n",
    "    b = Complex{ctype}(a)\n",
    "    c = (b + 1.0f0)::Complex{ctype} # 이렇게 할바에 함수를 두개를 만들자\n",
    "    abs(c)\n",
    "end"
   ]
  },
  {
   "cell_type": "code",
   "execution_count": 120,
   "metadata": {},
   "outputs": [
    {
     "data": {
      "text/plain": [
       "f_vararg (generic function with 2 methods)"
      ]
     },
     "metadata": {},
     "output_type": "display_data"
    }
   ],
   "source": [
    "# 코드 성능에는 무관하지만, 컴파일에 상관이 있는 지정 요소들이 있다.\n",
    "# 이들은 Type, Function, Vararg 이다.\n",
    "# 간단하게 예시만 보고 넘어가자\n",
    "\n",
    "function f_type(t::Type)\n",
    "    x = zeros(t, 10)\n",
    "end\n",
    "\n",
    "# 최적화\n",
    "function f_type(t::Type{T}) where T\n",
    "    x = zeros(t, 10)\n",
    "end\n",
    "\n",
    "f_func(h::Function, num) = h, h(num)\n",
    "f_func(h::H, num) where {H} = h, h(num) # 최적화\n",
    "\n",
    "\n",
    "f_vararg(x::Int...) = tuple(x...)\n",
    "f_vararg(x::Vararg{Any, N}) where {N} = tuple(x...) # 최적화"
   ]
  },
  {
   "cell_type": "code",
   "execution_count": null,
   "metadata": {},
   "outputs": [],
   "source": []
  },
  {
   "cell_type": "markdown",
   "metadata": {},
   "source": [
    "## 멀티 쓰레딩\n",
    "[Julia Document; Multi-Threading](https://docs.julialang.org/en/v1/manual/multi-threading/)"
   ]
  },
  {
   "cell_type": "code",
   "execution_count": 111,
   "metadata": {},
   "outputs": [],
   "source": []
  },
  {
   "cell_type": "markdown",
   "metadata": {},
   "source": [
    "### Pycall with Anaconda3"
   ]
  },
  {
   "cell_type": "code",
   "execution_count": 81,
   "metadata": {},
   "outputs": [
    {
     "name": "stderr",
     "output_type": "stream",
     "text": [
      "\u001b[32m\u001b[1m   Resolving\u001b[22m\u001b[39m package versions...\n",
      "\u001b[32m\u001b[1m  No Changes\u001b[22m\u001b[39m to `C:\\Users\\Ryu\\.julia\\environments\\v1.7\\Project.toml`\n",
      "\u001b[32m\u001b[1m  No Changes\u001b[22m\u001b[39m to `C:\\Users\\Ryu\\.julia\\environments\\v1.7\\Manifest.toml`\n",
      "\u001b[32m\u001b[1m    Updating\u001b[22m\u001b[39m git-repo `https://github.com/JuliaPy/PyCall.jl.git`\n",
      "\u001b[32m\u001b[1m   Resolving\u001b[22m\u001b[39m package versions...\n",
      "\u001b[32m\u001b[1m  No Changes\u001b[22m\u001b[39m to `C:\\Users\\Ryu\\.julia\\environments\\v1.7\\Project.toml`\n",
      "\u001b[32m\u001b[1m  No Changes\u001b[22m\u001b[39m to `C:\\Users\\Ryu\\.julia\\environments\\v1.7\\Manifest.toml`\n",
      "\u001b[32m\u001b[1m    Building\u001b[22m\u001b[39m Conda → `C:\\Users\\Ryu\\.julia\\scratchspaces\\44cfe95a-1eb2-52ea-b672-e2afdf69b78f\\6e47d11ea2776bc5627421d59cdcc1296c058071\\build.log`\n"
     ]
    }
   ],
   "source": [
    "using Pkg\n",
    "\n",
    "Pkg.add(\"Conda\")\n",
    "Pkg.add(PackageSpec(name=\"PyCall\", rev=\"master\"))\n",
    "ENV[\"CONDA_JL_HOME\"] = raw\"C:\\Users\\Ryu\\anaconda3\\envs\\idle\"\n",
    "Pkg.build(\"Conda\")"
   ]
  },
  {
   "cell_type": "code",
   "execution_count": 82,
   "metadata": {},
   "outputs": [
    {
     "name": "stdout",
     "output_type": "stream",
     "text": [
      "[0.0, 0.0, 0.0, 0.0, 0.0, 0.0]\n"
     ]
    }
   ],
   "source": [
    "using PyCall\n",
    "\n",
    "a = pyimport(\"numpy\")\n",
    "\n",
    "println(a.zeros(6))"
   ]
  }
 ],
 "metadata": {
  "interpreter": {
   "hash": "5426b8edaad46d1586b466069054bf7aeb1321c89a3305187680d2ee93f599db"
  },
  "kernelspec": {
   "display_name": "Julia 1.7.2",
   "language": "julia",
   "name": "julia-1.7"
  },
  "language_info": {
   "file_extension": ".jl",
   "mimetype": "application/julia",
   "name": "julia",
   "version": "1.7.2"
  },
  "orig_nbformat": 4
 },
 "nbformat": 4,
 "nbformat_minor": 2
}
