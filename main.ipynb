{
 "cells": [
  {
   "cell_type": "markdown",
   "metadata": {},
   "source": [
    "## JulialearnProject\n",
    "개꿀잼 Julia를 배워보자"
   ]
  },
  {
   "cell_type": "markdown",
   "metadata": {},
   "source": [
    "### 출력과 자료형"
   ]
  },
  {
   "cell_type": "code",
   "execution_count": 24,
   "metadata": {},
   "outputs": [
    {
     "name": "stdout",
     "output_type": "stream",
     "text": [
      "Hello, Sans!\n",
      "3\n",
      "2\n",
      "28\n",
      "1.5\n",
      "3\n",
      "1\n",
      "36"
     ]
    },
    {
     "name": "stdout",
     "output_type": "stream",
     "text": [
      "\n"
     ]
    }
   ],
   "source": [
    "# 출력\n",
    "println(\"Hello, Sans!\")\n",
    "\n",
    "# 연산자\n",
    "println(1+2)\n",
    "println(3-1)\n",
    "println(4*7)\n",
    "println(3/2)\n",
    "println(13÷4) # \\div : ÷\n",
    "println(13%4)\n",
    "println(6^2)"
   ]
  },
  {
   "cell_type": "code",
   "execution_count": 25,
   "metadata": {},
   "outputs": [
    {
     "name": "stdout",
     "output_type": "stream",
     "text": [
      "Int64\n",
      "Float64\n",
      "Char\n",
      "String\n",
      "String"
     ]
    },
    {
     "name": "stdout",
     "output_type": "stream",
     "text": [
      "\n"
     ]
    }
   ],
   "source": [
    "println(typeof(1_000_00))  # 나중에 확인\n",
    "println(typeof(1.0))\n",
    "println(typeof('a')) # like C\n",
    "println(typeof(\"a\"))\n",
    "println(typeof(\"ㅇㅅㅇ\"))\n"
   ]
  },
  {
   "cell_type": "markdown",
   "metadata": {},
   "source": [
    "### 변수와 표현식"
   ]
  },
  {
   "cell_type": "code",
   "execution_count": 26,
   "metadata": {},
   "outputs": [
    {
     "name": "stdout",
     "output_type": "stream",
     "text": [
      "1.2\n",
      "2\n"
     ]
    }
   ],
   "source": [
    "π_val = 1.2 # \\pi : π\n",
    "❤ = 2\n",
    "println(π_val)\n",
    "println(❤) # emoji lol"
   ]
  },
  {
   "cell_type": "code",
   "execution_count": 27,
   "metadata": {},
   "outputs": [
    {
     "name": "stdout",
     "output_type": "stream",
     "text": [
      "홍진호홍진호\n",
      "홍진호홍진호\n"
     ]
    }
   ],
   "source": [
    "println(\"홍진호\"*\"홍진호\") # 문자열에서는 * 와 ^\n",
    "println(\"홍진호\"^2)"
   ]
  },
  {
   "cell_type": "markdown",
   "metadata": {},
   "source": [
    "### 함수"
   ]
  },
  {
   "cell_type": "code",
   "execution_count": 105,
   "metadata": {},
   "outputs": [
    {
     "name": "stdout",
     "output_type": "stream",
     "text": [
      "0\n",
      "0.0\n",
      "0.0\n",
      "Float64\n",
      "3\n",
      "3.0\n",
      "-5.0\n",
      "Float64\n"
     ]
    }
   ],
   "source": [
    "println(parse(Int64, \"0\"))\n",
    "# pritln(int(32)) Not python lol\n",
    "\n",
    "println(parse(Float64, \"0\"))\n",
    "println(Float64(0))\n",
    "println(typeof(Float64(0))) # 실제 형태를 직접 함수로 사용 가능\n",
    "\n",
    "println(trunc(Int64, 3.999))\n",
    "println(trunc(3.99)) # 그냥 소수점을 없애기\n",
    "println(floor(-4.11)) # 가우스 함수\n",
    "println(typeof(trunc(3.9)))\n",
    "\n",
    "# 많은 함수들은 Int64, Float64으로 처리되는 듯\n",
    "# 왠만하면 그냥 둬도 될거 같다"
   ]
  },
  {
   "cell_type": "code",
   "execution_count": 118,
   "metadata": {},
   "outputs": [
    {
     "name": "stdout",
     "output_type": "stream",
     "text": [
      "Int64\n",
      "10084\n",
      "12\n",
      "\n",
      "Float32\n",
      "Float64\n",
      "Float64\n",
      "12.0\n"
     ]
    }
   ],
   "source": [
    "# 보충\n",
    "println(typeof(Int(1.00))) # 64bit 프로그램을 사용해서 Int와 Int64가 동일 (Int64로 통일하자!)\n",
    "println(Int64('❤')) # Char에서는 아스키 코드 반환\n",
    "println(parse(Int64, \"12\"), \"\\n\") # String에서 int로 바꾸려면 parse\n",
    "\n",
    "println(typeof(float(2f-3))) # Float32은 f\n",
    "println(typeof(float(2e-3))) # Float64은 e\n",
    "println(typeof(Float64(2f-3))) # 형식 지정\n",
    "# flaot은 자료형이 아니라 부동소수점으로 바꿔주는 함수 => 앞에 대문자가 아니다\n",
    "println(parse(Float64, \"12\")) # String에서 float도 parse"
   ]
  },
  {
   "cell_type": "code",
   "execution_count": 33,
   "metadata": {},
   "outputs": [
    {
     "name": "stdout",
     "output_type": "stream",
     "text": [
      "-2.4492935982947064e-16\n",
      "0.0\n",
      "0.7071067811865476\n",
      "0.7071067811865476\n",
      "2.718281828459045"
     ]
    }
   ],
   "source": [
    "# Julia는 매우 수학적인 언어; 따라서, 삼각함수는 라디안 값을 받는다.\n",
    "println(sin(2*π)) # 부동소수점 오류\n",
    "println(sinpi(2)) # 대체제\n",
    "\n",
    "println(sinpi(0.25))\n",
    "println(sqrt(2)/2)\n",
    "\n",
    "print(exp(1))"
   ]
  },
  {
   "cell_type": "code",
   "execution_count": 40,
   "metadata": {},
   "outputs": [
    {
     "name": "stdout",
     "output_type": "stream",
     "text": [
      "와 샌즈다!!!\n",
      "와 샌즈다!!!\n"
     ]
    }
   ],
   "source": [
    "function sans()\n",
    "    println(\"와 샌즈다\",\"!\"^3)\n",
    "end\n",
    "\n",
    "function 홍진호()\n",
    "    sans()\n",
    "    sans()\n",
    "end\n",
    "\n",
    "홍진호()"
   ]
  },
  {
   "cell_type": "code",
   "execution_count": 39,
   "metadata": {},
   "outputs": [
    {
     "name": "stdout",
     "output_type": "stream",
     "text": [
      "와 샌즈다!\n",
      "nothing\n",
      "와 샌즈다!\n",
      "Nothing"
     ]
    },
    {
     "name": "stdout",
     "output_type": "stream",
     "text": [
      "\n"
     ]
    }
   ],
   "source": [
    "println(sans())\n",
    "println(typeof(sans())) # nothing은 문자열이 아니라 고유의 자료형인 'Nothing'을 가지고 있다."
   ]
  },
  {
   "cell_type": "code",
   "execution_count": 41,
   "metadata": {},
   "outputs": [
    {
     "name": "stdout",
     "output_type": "stream",
     "text": [
      "와 샌즈다 와 샌즈다 "
     ]
    }
   ],
   "source": [
    "print(\"와 샌즈다 \") # print는 println의 엔터가 없는 형태이다\n",
    "print(\"와 샌즈다 \")"
   ]
  },
  {
   "cell_type": "markdown",
   "metadata": {},
   "source": [
    "### 조건과 재귀"
   ]
  },
  {
   "cell_type": "code",
   "execution_count": 3,
   "metadata": {},
   "outputs": [
    {
     "name": "stdout",
     "output_type": "stream",
     "text": [
      "1.75\n",
      "1\n",
      "45"
     ]
    },
    {
     "name": "stdout",
     "output_type": "stream",
     "text": [
      "\n"
     ]
    }
   ],
   "source": [
    "m = 105\n",
    "println(m / 60)\n",
    "println(m ÷ 60)\n",
    "println(m % 60)"
   ]
  },
  {
   "cell_type": "code",
   "execution_count": 15,
   "metadata": {},
   "outputs": [
    {
     "name": "stdout",
     "output_type": "stream",
     "text": [
      "\n",
      "even"
     ]
    }
   ],
   "source": [
    "x = 4\n",
    "if x % 2 == 1 # x % 2 (X) Bool(x%2) (O)\n",
    "    println(\"odd\")\n",
    "else\n",
    "    println(\"even\")\n",
    "end"
   ]
  },
  {
   "cell_type": "code",
   "execution_count": 18,
   "metadata": {},
   "outputs": [
    {
     "name": "stdout",
     "output_type": "stream",
     "text": [
      "ㅇㅅㅇ\n"
     ]
    }
   ],
   "source": [
    "x = 2\n",
    "if 0 ≤ x ≤ 5 # 0 <= x && x <= 5\n",
    "    println(\"ㅇㅅㅇ\")\n",
    "elseif x < 0\n",
    "    println(\"ㅇㅅㅇ;;\")\n",
    "elseif x ≠ -1 # x != -1\n",
    "    println(\"ㅇㅅㅇ...\")\n",
    "end"
   ]
  },
  {
   "cell_type": "code",
   "execution_count": null,
   "metadata": {},
   "outputs": [],
   "source": [
    "# print(\"주어진 값은 : \"); t = parse(Int64, readline()) # python의 input과 동일\n",
    "# println(t)\n",
    "# Jupyter 버그로 에러남"
   ]
  },
  {
   "cell_type": "code",
   "execution_count": 2,
   "metadata": {},
   "outputs": [
    {
     "name": "stdout",
     "output_type": "stream",
     "text": [
      "aaaaaaaaaa"
     ]
    }
   ],
   "source": [
    "# 재귀함수\n",
    "function iterstring(s, n)\n",
    "    if n ≤ 0\n",
    "        return\n",
    "    end\n",
    "\n",
    "    print(s)\n",
    "    iterstring(s, n-1)\n",
    "end\n",
    "\n",
    "iterstring('a',10)"
   ]
  },
  {
   "cell_type": "code",
   "execution_count": 20,
   "metadata": {},
   "outputs": [
    {
     "name": "stdout",
     "output_type": "stream",
     "text": [
      "dx = 3\n",
      "dy = 4\n",
      "5.0\n",
      "3"
     ]
    },
    {
     "name": "stdout",
     "output_type": "stream",
     "text": [
      "\n"
     ]
    }
   ],
   "source": [
    "function distance(x₁, y₁, x₂, y₂)\n",
    "    dx = x₂ - x₁\n",
    "    dy = y₂ - y₁\n",
    "    @show dx dy # 쉽게 값을 확인시켜주는 메크로\n",
    "\n",
    "    sqrt(dx^2 + dy^2) # 함수의 반환값은 마지막으로 평가된 표현식의 값\n",
    "end\n",
    "\n",
    "function absf(x)\n",
    "    if x < 0\n",
    "        -x\n",
    "    else\n",
    "        x\n",
    "    end\n",
    "end\n",
    "\n",
    "println(distance(0, 0, 3, 4))\n",
    "println(absf(-3))"
   ]
  },
  {
   "cell_type": "code",
   "execution_count": 21,
   "metadata": {},
   "outputs": [
    {
     "name": "stdout",
     "output_type": "stream",
     "text": [
      "x is divisible by y"
     ]
    },
    {
     "name": "stdout",
     "output_type": "stream",
     "text": [
      "\n"
     ]
    }
   ],
   "source": [
    "function isvis(x, y)\n",
    "    if x % y == 0\n",
    "        return true\n",
    "    else\n",
    "        return false\n",
    "    end\n",
    "    # x % y == 0 로도 가능\n",
    "end\n",
    "\n",
    "x, y = 8, 4\n",
    "\n",
    "if isvis(x, y)\n",
    "    println(\"x is divisible by y\")\n",
    "end"
   ]
  },
  {
   "cell_type": "code",
   "execution_count": 123,
   "metadata": {},
   "outputs": [
    {
     "name": "stdout",
     "output_type": "stream",
     "text": [
      "-8764578968847253504\n",
      "265252859812191058636308480000000\n",
      "\n",
      "BigFloat"
     ]
    },
    {
     "name": "stdout",
     "output_type": "stream",
     "text": [
      "\n"
     ]
    }
   ],
   "source": [
    "function fact(n)\n",
    "    if n == 0\n",
    "        1\n",
    "    else\n",
    "        n * fact(n-1)\n",
    "    end\n",
    "end\n",
    "\n",
    "println(fact(30))\n",
    "println(fact(big(30)), \"\\n\") # Int64 보다 큰 BigInt를 불러오기 위함\n",
    "# 마찬가지로 앞에 대문자가 아닌 이유는 BigInt or BigFloat를 불러오기 때문이다\n",
    "# big 함수는 하나의 class에서 오는 것이 아니라 두 class도 나뉘기 때문이다\n",
    "println(typeof(big(0))) # BigInt(0)\n",
    "println(typeof(big(0.0))) # BigFloat(0.0)"
   ]
  },
  {
   "cell_type": "code",
   "execution_count": 37,
   "metadata": {},
   "outputs": [
    {
     "name": "stdout",
     "output_type": "stream",
     "text": [
      "Wrong Input\n",
      "Wrong Input\n",
      "720"
     ]
    },
    {
     "name": "stdout",
     "output_type": "stream",
     "text": [
      "\n"
     ]
    }
   ],
   "source": [
    "function fact(n)\n",
    "    if !(n isa Int64) || n < 0\n",
    "        error(\"Wrong Input\") # 이렇게 하면 Error 나고 끝남 (try - catch로 조절)\n",
    "    elseif  n == 0\n",
    "        1\n",
    "    else\n",
    "        n * fact(n-1)\n",
    "    end\n",
    "end\n",
    "\n",
    "try\n",
    "    println(fact(1.5))\n",
    "catch\n",
    "    println(\"Wrong Input\")\n",
    "end\n",
    "\n",
    "try\n",
    "    println(fact(\"Sans\"))\n",
    "catch\n",
    "    println(\"Wrong Input\")\n",
    "end\n",
    "\n",
    "println(fact(6))"
   ]
  },
  {
   "cell_type": "markdown",
   "metadata": {},
   "source": [
    "### 반복"
   ]
  },
  {
   "cell_type": "code",
   "execution_count": 48,
   "metadata": {},
   "outputs": [
    {
     "name": "stdout",
     "output_type": "stream",
     "text": [
      "1 2 4 5 7 8 10 "
     ]
    }
   ],
   "source": [
    "for i in 1:10\n",
    "    if i % 3 == 0\n",
    "        continue\n",
    "    end\n",
    "    print(i, \" \")\n",
    "end"
   ]
  },
  {
   "cell_type": "code",
   "execution_count": 49,
   "metadata": {},
   "outputs": [
    {
     "name": "stdout",
     "output_type": "stream",
     "text": [
      "4\n",
      "2.5\n",
      "2.05\n",
      "2.000609756097561\n",
      "2.0000000929222947\n",
      "2.000000000000002\n",
      "2.0\n"
     ]
    }
   ],
   "source": [
    "a = x = 4\n",
    "ϵ = 1e-13\n",
    "while true\n",
    "    println(x)\n",
    "    y = (x + a/x) / 2 # 뉴턴 근사\n",
    "    if abs(y - x) < ϵ\n",
    "        break\n",
    "    end\n",
    "    x = y\n",
    "end\n",
    "\n",
    "println(y)"
   ]
  },
  {
   "cell_type": "code",
   "execution_count": 55,
   "metadata": {},
   "outputs": [
    {
     "name": "stdout",
     "output_type": "stream",
     "text": [
      "3 ^ 2 / 2\n"
     ]
    },
    {
     "data": {
      "text/plain": [
       "4.5"
      ]
     },
     "metadata": {},
     "output_type": "display_data"
    }
   ],
   "source": [
    "expr = Meta.parse(\"3^2/2\") # 문자열을 표현식으로 변환 (println X)\n",
    "println(expr)\n",
    "eval(expr)"
   ]
  },
  {
   "cell_type": "markdown",
   "metadata": {},
   "source": [
    "### 문자열"
   ]
  },
  {
   "cell_type": "code",
   "execution_count": 59,
   "metadata": {},
   "outputs": [
    {
     "data": {
      "text/plain": [
       "'🍌': Unicode U+1F34C (category So: Symbol, other)"
      ]
     },
     "metadata": {},
     "output_type": "display_data"
    }
   ],
   "source": [
    "'🍌'"
   ]
  },
  {
   "cell_type": "code",
   "execution_count": 61,
   "metadata": {},
   "outputs": [
    {
     "name": "stdout",
     "output_type": "stream",
     "text": [
      "b"
     ]
    },
    {
     "name": "stdout",
     "output_type": "stream",
     "text": [
      "\n"
     ]
    }
   ],
   "source": [
    "fruit = \"banna\"\n",
    "println(fruit[1]) # index at 1"
   ]
  },
  {
   "cell_type": "code",
   "execution_count": 70,
   "metadata": {},
   "outputs": [
    {
     "name": "stdout",
     "output_type": "stream",
     "text": [
      "5\n"
     ]
    },
    {
     "data": {
      "text/plain": [
       "'!': ASCII/Unicode U+0021 (category Po: Punctuation, other)"
      ]
     },
     "metadata": {},
     "output_type": "display_data"
    }
   ],
   "source": [
    "fruits = \"🍌!🍎 🍑\"\n",
    "len = length(fruits)\n",
    "println(len)\n",
    "fruits[len] # Julia의 문자열은 UTF-8로 가변 부호화여서 생기는 오류"
   ]
  },
  {
   "cell_type": "code",
   "execution_count": 77,
   "metadata": {},
   "outputs": [
    {
     "name": "stdout",
     "output_type": "stream",
     "text": [
      "4\n",
      "!\n",
      "Wrong Index\n",
      "🍌, !, 🍎,  , 🍑, \n",
      "🍌, !, 🍎,  , 🍑"
     ]
    },
    {
     "name": "stdout",
     "output_type": "stream",
     "text": [
      ", "
     ]
    }
   ],
   "source": [
    "println(sizeof(\"🍌\"))\n",
    "println(fruits[len])\n",
    "\n",
    "# 값은 5여서 마지막 것을 추가하는 것처럼 보이지만, 바이트 인덱스를 건드는 것이다.\n",
    "try\n",
    "    println(fruits[3]) # 🍌의 3번째 index를 건드려고 하니까 Error!\n",
    "catch\n",
    "    println(\"Wrong Index\")\n",
    "end\n",
    "\n",
    "\n",
    "index = firstindex(fruits)\n",
    "while index ≤ sizeof(fruits)\n",
    "    print(fruits[index], \", \")\n",
    "    index = nextind(fruits, index)\n",
    "end\n",
    "\n",
    "println()\n",
    "\n",
    "for i in fruits\n",
    "    print(i, \", \")\n",
    "end"
   ]
  },
  {
   "cell_type": "markdown",
   "metadata": {},
   "source": [
    "#### UTF-8"
   ]
  },
  {
   "cell_type": "code",
   "execution_count": 117,
   "metadata": {},
   "outputs": [
    {
     "name": "stdout",
     "output_type": "stream",
     "text": [
      "4\n",
      "2\n",
      "3\n",
      "4\n",
      "\n",
      "1\n",
      "1\n",
      "1\n"
     ]
    }
   ],
   "source": [
    "println(sizeof(\"👶\")) # 이모지는 4바이트\n",
    "println(sizeof(\"ض\")) # 내가 잘 안쓰는 외국 언어들은 2바이트\n",
    "println(sizeof(\"の\")) # 한국어, 일본어는 3바이트\n",
    "println(sizeof('👶'), \"\\n\") # Char vs String; Char은 항상 4바이트\n",
    "\n",
    "# 아스키 코드는 1바이트\n",
    "println(sizeof(\"!\"))\n",
    "println(sizeof(\"a\"))\n",
    "println(sizeof(\"0\"))"
   ]
  },
  {
   "cell_type": "code",
   "execution_count": 101,
   "metadata": {},
   "outputs": [
    {
     "name": "stdout",
     "output_type": "stream",
     "text": [
      "Sans!\n",
      "\n",
      "Wow\n",
      "Wow, Sans!\n"
     ]
    }
   ],
   "source": [
    "str = \"Wow, Sans!\"\n",
    "println(str[6:end]) # 마지막을 표시하기 위한 예약어\n",
    "println(str[2:1]) # 1 ~ end 범위 안에 있을때 앞의 값이 크면 빈 문자열\n",
    "println(str[1:3]) # 무조건 숫자를 두번 써야함; Python 이랑 다름\n",
    "println(str[:]) # copy 하는 기능; Python과 유사"
   ]
  },
  {
   "cell_type": "code",
   "execution_count": 131,
   "metadata": {},
   "outputs": [
    {
     "name": "stdout",
     "output_type": "stream",
     "text": [
      "Hello, World!!\n",
      "120\n"
     ]
    }
   ],
   "source": [
    "greet = \"Hello\"\n",
    "whom = \"World\"\n",
    "\n",
    "# 문자열 보간\n",
    "println(\"$greet, $(whom*\"!\")!\") # ,은 변수 이름으로 사용되지 않으니 저렇게 사용\n",
    "# 저렇게 $뒤에 괄호를 사용하지 않는 것은 흔치 않음 그냥 표현이라 생각하고 사용하자\n",
    "# 안에서 계산도 할 수 있다\n",
    "\n",
    "println(Int('x')) # return Int64 (사실상 같은거지만 짧으니까 ㅎㅎ)"
   ]
  }
 ],
 "metadata": {
  "kernelspec": {
   "display_name": "Julia 1.7.2",
   "language": "julia",
   "name": "julia-1.7"
  },
  "language_info": {
   "file_extension": ".jl",
   "mimetype": "application/julia",
   "name": "julia",
   "version": "1.7.2"
  },
  "orig_nbformat": 4
 },
 "nbformat": 4,
 "nbformat_minor": 2
}
